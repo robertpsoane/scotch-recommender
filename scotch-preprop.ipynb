{
 "cells": [
  {
   "cell_type": "markdown",
   "id": "useful-torture",
   "metadata": {},
   "source": [
    "# Preprocessing Scotch Notes"
   ]
  },
  {
   "cell_type": "code",
   "execution_count": 29,
   "id": "suffering-macintosh",
   "metadata": {},
   "outputs": [],
   "source": [
    "import pandas as pd\n",
    "import numpy as np\n",
    "from hashlib import md5"
   ]
  },
  {
   "cell_type": "markdown",
   "id": "alive-progress",
   "metadata": {},
   "source": [
    "## Adding IDs and removing duplicates"
   ]
  },
  {
   "cell_type": "code",
   "execution_count": 30,
   "id": "racial-mining",
   "metadata": {},
   "outputs": [
    {
     "data": {
      "text/html": [
       "<div>\n",
       "<style scoped>\n",
       "    .dataframe tbody tr th:only-of-type {\n",
       "        vertical-align: middle;\n",
       "    }\n",
       "\n",
       "    .dataframe tbody tr th {\n",
       "        vertical-align: top;\n",
       "    }\n",
       "\n",
       "    .dataframe thead th {\n",
       "        text-align: right;\n",
       "    }\n",
       "</style>\n",
       "<table border=\"1\" class=\"dataframe\">\n",
       "  <thead>\n",
       "    <tr style=\"text-align: right;\">\n",
       "      <th></th>\n",
       "      <th>Unnamed: 0</th>\n",
       "      <th>Type</th>\n",
       "      <th>Name</th>\n",
       "      <th>Description</th>\n",
       "      <th>Nose</th>\n",
       "      <th>Palate</th>\n",
       "      <th>Finish</th>\n",
       "      <th>Price</th>\n",
       "      <th>Size</th>\n",
       "      <th>Abv</th>\n",
       "      <th>URL</th>\n",
       "    </tr>\n",
       "  </thead>\n",
       "  <tbody>\n",
       "    <tr>\n",
       "      <th>0</th>\n",
       "      <td>0</td>\n",
       "      <td>blended malt scotch</td>\n",
       "      <td>Monkey Shoulder Blended Malt Scotch Whisky</td>\n",
       "      <td>Monkey Shoulder Scotch is a superb blended mal...</td>\n",
       "      <td>An elegant, stylish nose of marmalade, Crema C...</td>\n",
       "      <td>Very malty, creamy delivery with a suggestion ...</td>\n",
       "      <td>Medium length, spicy oak and a hint of pepperm...</td>\n",
       "      <td>25.94</td>\n",
       "      <td>70.0</td>\n",
       "      <td>40.0</td>\n",
       "      <td>https://www.masterofmalt.com/whiskies/monkey-s...</td>\n",
       "    </tr>\n",
       "    <tr>\n",
       "      <th>1</th>\n",
       "      <td>1</td>\n",
       "      <td>blended malt scotch</td>\n",
       "      <td>Johnnie Walker Green Label 15 Year Old</td>\n",
       "      <td>One of those harder-to-find whiskies, Johnnie ...</td>\n",
       "      <td>NaN</td>\n",
       "      <td>NaN</td>\n",
       "      <td>NaN</td>\n",
       "      <td>38.95</td>\n",
       "      <td>70.0</td>\n",
       "      <td>43.0</td>\n",
       "      <td>https://www.masterofmalt.com/whiskies/johnnie-...</td>\n",
       "    </tr>\n",
       "    <tr>\n",
       "      <th>2</th>\n",
       "      <td>2</td>\n",
       "      <td>blended malt scotch</td>\n",
       "      <td>The Naked Grouse</td>\n",
       "      <td>An interesting addition to the Famous Grouse r...</td>\n",
       "      <td>Smooth and oily with notes of cherry compote, ...</td>\n",
       "      <td>Sherried and thick with notes of sultanas, sti...</td>\n",
       "      <td>Medium, with notes of cocoa, oak and just a so...</td>\n",
       "      <td>26.49</td>\n",
       "      <td>70.0</td>\n",
       "      <td>40.0</td>\n",
       "      <td>https://www.masterofmalt.com/whiskies/naked-gr...</td>\n",
       "    </tr>\n",
       "    <tr>\n",
       "      <th>3</th>\n",
       "      <td>3</td>\n",
       "      <td>blended malt scotch</td>\n",
       "      <td>Scallywag</td>\n",
       "      <td>Big Peat's gone and got himself a trusty sidek...</td>\n",
       "      <td>Sweetness jumps up like an excited puppy. Icin...</td>\n",
       "      <td>The sweetness surprisingly retreats, revealing...</td>\n",
       "      <td>A pinch of oak spice joins the vanilla and she...</td>\n",
       "      <td>38.75</td>\n",
       "      <td>70.0</td>\n",
       "      <td>46.0</td>\n",
       "      <td>https://www.masterofmalt.com/whiskies/douglas-...</td>\n",
       "    </tr>\n",
       "    <tr>\n",
       "      <th>4</th>\n",
       "      <td>4</td>\n",
       "      <td>blended malt scotch</td>\n",
       "      <td>Monkey Shoulder Smokey Monkey</td>\n",
       "      <td>A peaty variant of the excellent Monkey Should...</td>\n",
       "      <td>Honeydew melon, flamed orange peel, a touch of...</td>\n",
       "      <td>Vanilla sits at the core, its earthy notes bol...</td>\n",
       "      <td>Toffee Crisp bars and the last wafts of drying...</td>\n",
       "      <td>27.44</td>\n",
       "      <td>70.0</td>\n",
       "      <td>40.0</td>\n",
       "      <td>https://www.masterofmalt.com/whiskies/monkey-s...</td>\n",
       "    </tr>\n",
       "  </tbody>\n",
       "</table>\n",
       "</div>"
      ],
      "text/plain": [
       "   Unnamed: 0                 Type  \\\n",
       "0           0  blended malt scotch   \n",
       "1           1  blended malt scotch   \n",
       "2           2  blended malt scotch   \n",
       "3           3  blended malt scotch   \n",
       "4           4  blended malt scotch   \n",
       "\n",
       "                                         Name  \\\n",
       "0  Monkey Shoulder Blended Malt Scotch Whisky   \n",
       "1      Johnnie Walker Green Label 15 Year Old   \n",
       "2                            The Naked Grouse   \n",
       "3                                   Scallywag   \n",
       "4               Monkey Shoulder Smokey Monkey   \n",
       "\n",
       "                                         Description  \\\n",
       "0  Monkey Shoulder Scotch is a superb blended mal...   \n",
       "1  One of those harder-to-find whiskies, Johnnie ...   \n",
       "2  An interesting addition to the Famous Grouse r...   \n",
       "3  Big Peat's gone and got himself a trusty sidek...   \n",
       "4  A peaty variant of the excellent Monkey Should...   \n",
       "\n",
       "                                                Nose  \\\n",
       "0  An elegant, stylish nose of marmalade, Crema C...   \n",
       "1                                                NaN   \n",
       "2  Smooth and oily with notes of cherry compote, ...   \n",
       "3  Sweetness jumps up like an excited puppy. Icin...   \n",
       "4  Honeydew melon, flamed orange peel, a touch of...   \n",
       "\n",
       "                                              Palate  \\\n",
       "0  Very malty, creamy delivery with a suggestion ...   \n",
       "1                                                NaN   \n",
       "2  Sherried and thick with notes of sultanas, sti...   \n",
       "3  The sweetness surprisingly retreats, revealing...   \n",
       "4  Vanilla sits at the core, its earthy notes bol...   \n",
       "\n",
       "                                              Finish  Price  Size   Abv  \\\n",
       "0  Medium length, spicy oak and a hint of pepperm...  25.94  70.0  40.0   \n",
       "1                                                NaN  38.95  70.0  43.0   \n",
       "2  Medium, with notes of cocoa, oak and just a so...  26.49  70.0  40.0   \n",
       "3  A pinch of oak spice joins the vanilla and she...  38.75  70.0  46.0   \n",
       "4  Toffee Crisp bars and the last wafts of drying...  27.44  70.0  40.0   \n",
       "\n",
       "                                                 URL  \n",
       "0  https://www.masterofmalt.com/whiskies/monkey-s...  \n",
       "1  https://www.masterofmalt.com/whiskies/johnnie-...  \n",
       "2  https://www.masterofmalt.com/whiskies/naked-gr...  \n",
       "3  https://www.masterofmalt.com/whiskies/douglas-...  \n",
       "4  https://www.masterofmalt.com/whiskies/monkey-s...  "
      ]
     },
     "execution_count": 30,
     "metadata": {},
     "output_type": "execute_result"
    }
   ],
   "source": [
    "df = pd.read_csv(\"scotch.csv\")\n",
    "df.head()"
   ]
  },
  {
   "cell_type": "code",
   "execution_count": 31,
   "id": "exempt-smoke",
   "metadata": {},
   "outputs": [],
   "source": [
    "# Creating an ID for each whisky\n",
    "def hashEl(name, url):\n",
    "    \"\"\"\n",
    "    MD5 hash of Name and URL\n",
    "    Hash each individually, use max/min functions to ensure hash 2 happens in same order irrespective of which get's input first.\n",
    "    \"\"\"\n",
    "    h1 = md5(name.encode()).hexdigest()\n",
    "    h2 = md5(url.encode()).hexdigest()\n",
    "    h3 = max(h1, h2) + min(h1, h2)\n",
    "    h4 = md5(h3.encode()).hexdigest()\n",
    "    return h3"
   ]
  },
  {
   "cell_type": "code",
   "execution_count": 32,
   "id": "brown-breakfast",
   "metadata": {},
   "outputs": [
    {
     "data": {
      "text/html": [
       "<div>\n",
       "<style scoped>\n",
       "    .dataframe tbody tr th:only-of-type {\n",
       "        vertical-align: middle;\n",
       "    }\n",
       "\n",
       "    .dataframe tbody tr th {\n",
       "        vertical-align: top;\n",
       "    }\n",
       "\n",
       "    .dataframe thead th {\n",
       "        text-align: right;\n",
       "    }\n",
       "</style>\n",
       "<table border=\"1\" class=\"dataframe\">\n",
       "  <thead>\n",
       "    <tr style=\"text-align: right;\">\n",
       "      <th></th>\n",
       "      <th>ID</th>\n",
       "      <th>Type</th>\n",
       "      <th>Name</th>\n",
       "      <th>Description</th>\n",
       "      <th>Nose</th>\n",
       "      <th>Palate</th>\n",
       "      <th>Finish</th>\n",
       "      <th>Price</th>\n",
       "      <th>Size</th>\n",
       "      <th>Abv</th>\n",
       "      <th>URL</th>\n",
       "    </tr>\n",
       "  </thead>\n",
       "  <tbody>\n",
       "    <tr>\n",
       "      <th>0</th>\n",
       "      <td>495334d7384f4c9a933a156cb57639770cd9c8bca00ac7...</td>\n",
       "      <td>blended malt scotch</td>\n",
       "      <td>Monkey Shoulder Blended Malt Scotch Whisky</td>\n",
       "      <td>Monkey Shoulder Scotch is a superb blended mal...</td>\n",
       "      <td>An elegant, stylish nose of marmalade, Crema C...</td>\n",
       "      <td>Very malty, creamy delivery with a suggestion ...</td>\n",
       "      <td>Medium length, spicy oak and a hint of pepperm...</td>\n",
       "      <td>25.94</td>\n",
       "      <td>70.0</td>\n",
       "      <td>40.0</td>\n",
       "      <td>https://www.masterofmalt.com/whiskies/monkey-s...</td>\n",
       "    </tr>\n",
       "    <tr>\n",
       "      <th>1</th>\n",
       "      <td>e193fa8dee0bb9422054efd5dfb7f2c2628815243b584b...</td>\n",
       "      <td>blended malt scotch</td>\n",
       "      <td>Johnnie Walker Green Label 15 Year Old</td>\n",
       "      <td>One of those harder-to-find whiskies, Johnnie ...</td>\n",
       "      <td>NaN</td>\n",
       "      <td>NaN</td>\n",
       "      <td>NaN</td>\n",
       "      <td>38.95</td>\n",
       "      <td>70.0</td>\n",
       "      <td>43.0</td>\n",
       "      <td>https://www.masterofmalt.com/whiskies/johnnie-...</td>\n",
       "    </tr>\n",
       "    <tr>\n",
       "      <th>2</th>\n",
       "      <td>d3ba34da7b98276f2da2ab313ff9e6cdc5d476d253a05e...</td>\n",
       "      <td>blended malt scotch</td>\n",
       "      <td>The Naked Grouse</td>\n",
       "      <td>An interesting addition to the Famous Grouse r...</td>\n",
       "      <td>Smooth and oily with notes of cherry compote, ...</td>\n",
       "      <td>Sherried and thick with notes of sultanas, sti...</td>\n",
       "      <td>Medium, with notes of cocoa, oak and just a so...</td>\n",
       "      <td>26.49</td>\n",
       "      <td>70.0</td>\n",
       "      <td>40.0</td>\n",
       "      <td>https://www.masterofmalt.com/whiskies/naked-gr...</td>\n",
       "    </tr>\n",
       "    <tr>\n",
       "      <th>3</th>\n",
       "      <td>b74f75c04d65218b3b094130583f53b58b58d331f47d44...</td>\n",
       "      <td>blended malt scotch</td>\n",
       "      <td>Scallywag</td>\n",
       "      <td>Big Peat's gone and got himself a trusty sidek...</td>\n",
       "      <td>Sweetness jumps up like an excited puppy. Icin...</td>\n",
       "      <td>The sweetness surprisingly retreats, revealing...</td>\n",
       "      <td>A pinch of oak spice joins the vanilla and she...</td>\n",
       "      <td>38.75</td>\n",
       "      <td>70.0</td>\n",
       "      <td>46.0</td>\n",
       "      <td>https://www.masterofmalt.com/whiskies/douglas-...</td>\n",
       "    </tr>\n",
       "    <tr>\n",
       "      <th>4</th>\n",
       "      <td>a6f33f754e0dbb178b5fef3ff0d031f470918b9477703c...</td>\n",
       "      <td>blended malt scotch</td>\n",
       "      <td>Monkey Shoulder Smokey Monkey</td>\n",
       "      <td>A peaty variant of the excellent Monkey Should...</td>\n",
       "      <td>Honeydew melon, flamed orange peel, a touch of...</td>\n",
       "      <td>Vanilla sits at the core, its earthy notes bol...</td>\n",
       "      <td>Toffee Crisp bars and the last wafts of drying...</td>\n",
       "      <td>27.44</td>\n",
       "      <td>70.0</td>\n",
       "      <td>40.0</td>\n",
       "      <td>https://www.masterofmalt.com/whiskies/monkey-s...</td>\n",
       "    </tr>\n",
       "  </tbody>\n",
       "</table>\n",
       "</div>"
      ],
      "text/plain": [
       "                                                  ID                 Type  \\\n",
       "0  495334d7384f4c9a933a156cb57639770cd9c8bca00ac7...  blended malt scotch   \n",
       "1  e193fa8dee0bb9422054efd5dfb7f2c2628815243b584b...  blended malt scotch   \n",
       "2  d3ba34da7b98276f2da2ab313ff9e6cdc5d476d253a05e...  blended malt scotch   \n",
       "3  b74f75c04d65218b3b094130583f53b58b58d331f47d44...  blended malt scotch   \n",
       "4  a6f33f754e0dbb178b5fef3ff0d031f470918b9477703c...  blended malt scotch   \n",
       "\n",
       "                                         Name  \\\n",
       "0  Monkey Shoulder Blended Malt Scotch Whisky   \n",
       "1      Johnnie Walker Green Label 15 Year Old   \n",
       "2                            The Naked Grouse   \n",
       "3                                   Scallywag   \n",
       "4               Monkey Shoulder Smokey Monkey   \n",
       "\n",
       "                                         Description  \\\n",
       "0  Monkey Shoulder Scotch is a superb blended mal...   \n",
       "1  One of those harder-to-find whiskies, Johnnie ...   \n",
       "2  An interesting addition to the Famous Grouse r...   \n",
       "3  Big Peat's gone and got himself a trusty sidek...   \n",
       "4  A peaty variant of the excellent Monkey Should...   \n",
       "\n",
       "                                                Nose  \\\n",
       "0  An elegant, stylish nose of marmalade, Crema C...   \n",
       "1                                                NaN   \n",
       "2  Smooth and oily with notes of cherry compote, ...   \n",
       "3  Sweetness jumps up like an excited puppy. Icin...   \n",
       "4  Honeydew melon, flamed orange peel, a touch of...   \n",
       "\n",
       "                                              Palate  \\\n",
       "0  Very malty, creamy delivery with a suggestion ...   \n",
       "1                                                NaN   \n",
       "2  Sherried and thick with notes of sultanas, sti...   \n",
       "3  The sweetness surprisingly retreats, revealing...   \n",
       "4  Vanilla sits at the core, its earthy notes bol...   \n",
       "\n",
       "                                              Finish  Price  Size   Abv  \\\n",
       "0  Medium length, spicy oak and a hint of pepperm...  25.94  70.0  40.0   \n",
       "1                                                NaN  38.95  70.0  43.0   \n",
       "2  Medium, with notes of cocoa, oak and just a so...  26.49  70.0  40.0   \n",
       "3  A pinch of oak spice joins the vanilla and she...  38.75  70.0  46.0   \n",
       "4  Toffee Crisp bars and the last wafts of drying...  27.44  70.0  40.0   \n",
       "\n",
       "                                                 URL  \n",
       "0  https://www.masterofmalt.com/whiskies/monkey-s...  \n",
       "1  https://www.masterofmalt.com/whiskies/johnnie-...  \n",
       "2  https://www.masterofmalt.com/whiskies/naked-gr...  \n",
       "3  https://www.masterofmalt.com/whiskies/douglas-...  \n",
       "4  https://www.masterofmalt.com/whiskies/monkey-s...  "
      ]
     },
     "execution_count": 32,
     "metadata": {},
     "output_type": "execute_result"
    }
   ],
   "source": [
    "# Creating ID, dropping duplicates\n",
    "df[\"ID\"] = df.apply((lambda x: hashEl(x.Name, x.URL)), axis=1)\n",
    "df = df.drop_duplicates(subset=\"ID\", keep=\"last\")\n",
    "df= df.reset_index()\n",
    "cols = [\"ID\", \"Type\", \"Name\", \"Description\", \"Nose\", \"Palate\", \"Finish\", \"Price\", \"Size\", \"Abv\",\"URL\"]\n",
    "df = df[cols]\n",
    "df.head()\n"
   ]
  },
  {
   "cell_type": "code",
   "execution_count": 33,
   "id": "authentic-setting",
   "metadata": {},
   "outputs": [],
   "source": [
    "df.to_csv(\"scotch-no-dupes.csv\", index=False)"
   ]
  },
  {
   "cell_type": "markdown",
   "id": "divine-atlanta",
   "metadata": {},
   "source": [
    "## Extracting to graph\n",
    "An issue with whisky tasting notes, is each document usually doesn't consist of one word more than once.  Means traditional processing techniques don't necessarily extract the right keywords.\n",
    "We create a network graph of keywords, where each word is a node, with edges being co-occurences in individual tasting notes, with each edge weighted by number of co-occurences.\n",
    "\n",
    "Another issue, is that words have different meanings, such as `peat`.  In normal english, peat is a fuel, and a synonym might be grass, in whisky peat and grass are about as far from each other as can be possible.\n",
    "\n",
    "A wordnet lemmatizer fails to lemmatize many words - need to build own lemmatizer."
   ]
  },
  {
   "cell_type": "markdown",
   "id": "qualified-wilderness",
   "metadata": {},
   "source": [
    "### Functions for making corpus"
   ]
  },
  {
   "cell_type": "code",
   "execution_count": 34,
   "id": "welcome-youth",
   "metadata": {},
   "outputs": [],
   "source": [
    "# Make Corpus Function\n",
    "\n",
    "# Removing Punctuation\n",
    "import string\n",
    "punct = string.punctuation+'’'\n",
    "\n",
    "def makeCorpus(lst):\n",
    "    out = ''\n",
    "    for el in lst:\n",
    "        out = out + el + '  '\n",
    "    return out\n",
    "\n",
    "def makeList(df, col):\n",
    "    \"\"\"\n",
    "    Extracts \n",
    "    \"\"\"\n",
    "    out = []\n",
    "    for row in range(len(df.index)-1):\n",
    "        # Extracting cell\n",
    "        row_str = df[col][row].lower()\n",
    "        # Removing punctuation\n",
    "        row_str = row_str.translate(str.maketrans(' ',' ',punct))\n",
    "        out.append(row_str)\n",
    "    return out"
   ]
  },
  {
   "cell_type": "markdown",
   "id": "separate-termination",
   "metadata": {},
   "source": [
    "### Lemmatizer"
   ]
  },
  {
   "cell_type": "code",
   "execution_count": 35,
   "id": "interesting-dictionary",
   "metadata": {},
   "outputs": [],
   "source": [
    "from nltk.tokenize import word_tokenize\n",
    "from nltk.stem import WordNetLemmatizer\n",
    "from nltk.corpus import wordnet\n",
    "from nltk import pos_tag\n",
    "\n",
    "# Extracting stop words\n",
    "from nltk.corpus import stopwords\n",
    "whisky_stopwords = [\"nose\", \"palate\", \"finish\", \"doesnt\", \"eye\", \"touch\", \"note\", \"hint\", \"good\",\"linger\",\"lingers\",\"alongside\",\"mar\"]\n",
    "swords = set(stopwords.words(\"english\") + whisky_stopwords)\n",
    "\n",
    "\n",
    "class WhiskyLemmatizer(WordNetLemmatizer):\n",
    "    '''\n",
    "    An extension on the WordNet Lemmatizer with added context for whisky\n",
    "    '''\n",
    "        \n",
    "    def __init__(self):\n",
    "        self.whisky_words = {\n",
    "            \"peated\": \"peat\",\n",
    "            \"peaty\": \"peat\",\n",
    "            \"smokey\": \"smoke\",\n",
    "            \"smoky\": \"smoke\",\n",
    "            \"sherried\": \"sherry\"\n",
    "    }\n",
    "    \n",
    "    def lemmatize(self, word):\n",
    "        # Caches lemmatized words to avoid lookups\n",
    "        if word in self.whisky_words:\n",
    "            out = self.whisky_words[word]\n",
    "        else:\n",
    "            tag = self.tag(word)\n",
    "            out = super().lemmatize(word, pos=tag)\n",
    "            self.whisky_words[word] = out\n",
    "        return out\n",
    "    \n",
    "    def lemmatizeList(self, lst):\n",
    "        return [self.lemmatize(w) for w in lst]\n",
    "    \n",
    "    def whiskySub(self, word):\n",
    "        if word in self.whisky_words:\n",
    "            return self.whisky_words[word]\n",
    "        else:\n",
    "            return word\n",
    "    \n",
    "    def tag(self, word):\n",
    "        tag = pos_tag([word])\n",
    "        tag = pos_tag([word])[0][1][0].lower()\n",
    "        if tag == \"v\":\n",
    "            return \"v\"\n",
    "        if tag == \"j\":\n",
    "            return \"a\"\n",
    "        else:\n",
    "            return \"n\"\n",
    "        \n",
    "        \n",
    "    def __repr__(self):\n",
    "        return \"<WhiskyLemmatizer>\"\n",
    "    \n",
    "lemmatizer = WhiskyLemmatizer()\n",
    "\n",
    "def tokenFilter(corpus):\n",
    "    tokens = lemmatizer.lemmatizeList(word_tokenize(corpus))\n",
    "    filtered = [w for w in tokens if (not w in swords)]\n",
    "    return filtered\n"
   ]
  },
  {
   "cell_type": "markdown",
   "id": "composed-snowboard",
   "metadata": {},
   "source": [
    "### Graph making functions"
   ]
  },
  {
   "cell_type": "code",
   "execution_count": 36,
   "id": "harmful-miami",
   "metadata": {},
   "outputs": [],
   "source": [
    "def makeNodes(corpus):\n",
    "    filtered = tokenFilter(corpus)\n",
    "    nodes_dict = {}\n",
    "    for word in filtered:\n",
    "        if word in nodes_dict:\n",
    "            nodes_dict[word] += 1\n",
    "        else:\n",
    "            nodes_dict[word] = 1\n",
    "    \n",
    "    node_names = list(nodes_dict.keys())\n",
    "    nodes = []\n",
    "    for name in node_names:\n",
    "        nodes.append({\n",
    "            \"name\":name,\n",
    "            \"degree\":int(nodes_dict[name])\n",
    "        })\n",
    "    return nodes, node_names\n",
    "        \n",
    "\n",
    "def incrementEdge(edges, from_idx, to_idx):\n",
    "    from_s, to_s = str(from_idx), str(to_idx)\n",
    "    if from_s in edges:\n",
    "        if to_s in edges[from_s]:\n",
    "            edges[from_s][to_s] += 1\n",
    "        else:\n",
    "            edges[from_s][to_s] = 1\n",
    "    else:\n",
    "        edges[from_s] = {to_s : 1}\n",
    "    return\n",
    "\n",
    "\n",
    "def makeNoteEdges(note, nodes, edges):\n",
    "    descs = tokenFilter(note)\n",
    "    descs = [d for d in descs if d in nodes]\n",
    "    node_idxs = [nodes.index(w) for w in descs if w in nodes]\n",
    "    n_descs = len(descs)\n",
    "    for note_idx1 in range(n_descs - 1):\n",
    "        for note_idx2 in range(note_idx1+1, n_descs):\n",
    "            if note_idx1 != note_idx2:\n",
    "                node1 = node_idxs[note_idx1]\n",
    "                node2 = node_idxs[note_idx2]\n",
    "                from_idx = min(node1, node2)\n",
    "                to_idx = max(node1, node2)\n",
    "                incrementEdge(edges, from_idx, to_idx)\n",
    "    return\n",
    "\n",
    "        \n",
    "def initialMakeEdges(lst, nodes):\n",
    "    edges = {}\n",
    "    for note in lst:\n",
    "        makeNoteEdges(note, nodes, edges)\n",
    "    return edges\n",
    "\n",
    "def makeEdges(lst, names, verbose=False):\n",
    "    init_edges = initialMakeEdges(lst, names)\n",
    "    edges = []\n",
    "    for start in init_edges.keys():\n",
    "        for end in init_edges[start].keys():\n",
    "            start_int, end_int = int(start), int(end)\n",
    "            edge = {\n",
    "                \"from\": start_int,\n",
    "                \"to\": end_int,\n",
    "                \"weight\": init_edges[start][end],\n",
    "            }\n",
    "            if verbose:\n",
    "                # Add english description to edge.\n",
    "                desc = {\n",
    "                    \"from\": names[start_int],\n",
    "                    \"to\": names[end_int]\n",
    "                }\n",
    "                edge[\"english\"] = desc\n",
    "            edges.append(edge)\n",
    "    return edges\n",
    "    \n",
    "\n",
    "def makeGraph(corpus_list, verbose_edges=False, ):\n",
    "    corpus = makeCorpus(corpus_list)\n",
    "    \n",
    "    nodes, names = makeNodes(corpus)\n",
    "    edges = makeEdges(corpus_list, names, verbose_edges)\n",
    "    \n",
    "    graph = {\n",
    "        \"nodes\": nodes,\n",
    "        \"edges\": edges,\n",
    "        \"node-names\": names\n",
    "    }\n",
    "    return graph"
   ]
  },
  {
   "cell_type": "markdown",
   "id": "numeric-indie",
   "metadata": {},
   "source": [
    "### Graph anal functions"
   ]
  },
  {
   "cell_type": "code",
   "execution_count": 37,
   "id": "convenient-removal",
   "metadata": {},
   "outputs": [],
   "source": [
    "def sortNodesByDegree(graph):\n",
    "    \"\"\"\n",
    "    Sorts nodes by degree : requires each node to know its degree.  \n",
    "    This should be the case as its degree is included when making graph\n",
    "    \"\"\"\n",
    "    # Extracting nodes to data frame\n",
    "    nodes = pd.DataFrame(graph[\"nodes\"])\n",
    "    \n",
    "    # Renaming columns and sorting graph\n",
    "    nodes.columns = [\"Descriptor\", \"Degree\"]\n",
    "    nodes = nodes.sort_values(\"Degree\",ascending=False)\n",
    "    nodes = nodes.reset_index()\n",
    "    return nodes[[\"Descriptor\", \"Degree\"]]\n",
    "\n",
    "def getUnrepresentedCount(corpus_list, nodes):\n",
    "    \"\"\"\n",
    "    Function to find all descriptors which aren't on graph\n",
    "    \"\"\"\n",
    "    descriptors = list(nodes[\"Descriptor\"])\n",
    "    \n",
    "    n_unrepresented = 0\n",
    "    \n",
    "    for t_note in corpus_list:\n",
    "        desc = tokenFilter(t_note)\n",
    "        matches = [w in descriptors for w in desc]\n",
    "        if True not in matches:\n",
    "            n_unrepresented += 1\n",
    "    \n",
    "    return n_unrepresented"
   ]
  },
  {
   "cell_type": "markdown",
   "id": "average-tuning",
   "metadata": {},
   "source": [
    "### Functions to add words to lemmatizer\n"
   ]
  },
  {
   "cell_type": "code",
   "execution_count": 38,
   "id": "inner-strand",
   "metadata": {},
   "outputs": [],
   "source": [
    "def addToLemmatizer(nodes, depth):\n",
    "    \"\"\"\n",
    "    Adds a rough stemming of each of the first `depth` nodes to the lemmatizer.\n",
    "    \"\"\"\n",
    "    # getting unlemmatized common words\n",
    "    list_descriptors = list(nodes[\"Descriptor\"])\n",
    "    describers_d = list_descriptors[:depth]\n",
    "    idx1 = 0\n",
    "    while idx1 < len(describers_d):\n",
    "        idx2 = idx1 + 1\n",
    "        word1 = describers_d[idx1]\n",
    "        while idx2 < len(describers_d):\n",
    "            word2 = describers_d[idx2]\n",
    "            if word2[:len(word1)] == word1:\n",
    "                describers_d.pop(idx2)\n",
    "                break\n",
    "            idx2 += 1\n",
    "        idx1 += 1\n",
    "\n",
    "\n",
    "    for word in describers_d:\n",
    "        unlemma = [w for w in list_descriptors if w[:len(word)]==word]\n",
    "        for unlemma_word in unlemma:\n",
    "            lemmatizer.whisky_words[unlemma_word] = word"
   ]
  },
  {
   "cell_type": "markdown",
   "id": "alleged-hearts",
   "metadata": {},
   "source": [
    "## Tasting Note Analysis\n",
    "We follow the following process to analyse the tasting notes:\n",
    "\n",
    "- Make preliminary graph based on hardcoded lemmatizer\n",
    "\n",
    "- Based on degree, take each term and add a rough stem to the lemmatizer\n",
    "\n",
    "- Remake the graph with improved lemmatizer\n",
    "\n",
    "### Tasting Note Analysis : Nose"
   ]
  },
  {
   "cell_type": "code",
   "execution_count": 39,
   "id": "basic-private",
   "metadata": {},
   "outputs": [],
   "source": [
    "# Extracting list of tasting notes from word\n",
    "nose_list = makeList(df.dropna().reset_index(), \"Nose\")\n",
    "\n",
    "# Making a preliminary graph and extracting words\n",
    "nose_graph_prelim = makeGraph(nose_list, verbose_edges=True)\n",
    "nose_deg = sortNodesByDegree(nose_graph_prelim)"
   ]
  },
  {
   "cell_type": "code",
   "execution_count": 40,
   "id": "cognitive-poker",
   "metadata": {},
   "outputs": [
    {
     "name": "stdout",
     "output_type": "stream",
     "text": [
      "–\n",
      "au\n",
      "de\n",
      "le\n",
      "go\n",
      "px\n",
      "u\n",
      "se\n",
      "9\n",
      "‘\n",
      "18\n",
      "ol\n",
      "10\n",
      "ba\n",
      "oh\n",
      "ii\n",
      "15\n",
      "n\n",
      "12\n",
      "30\n"
     ]
    }
   ],
   "source": [
    "## Noticed that when using len_deg we got some intersting \n",
    "## results - instead looking at short words, all seem \n",
    "## weird - adding to stopwords\n",
    "for word in list(nose_deg[\"Descriptor\"]):\n",
    "    if len(word) < 3:\n",
    "        print(word)\n",
    "        \n",
    "for word in list(nose_deg[\"Descriptor\"]):\n",
    "    if len(word) < 3:\n",
    "        swords.add(word)\n",
    "        \n",
    "# Improving lemmatizer based on 500 stemmed common words\n",
    "addToLemmatizer(nose_deg, 200)"
   ]
  },
  {
   "cell_type": "code",
   "execution_count": 41,
   "id": "ranging-organizer",
   "metadata": {},
   "outputs": [],
   "source": [
    "# Remaking nose graph\n",
    "nose_graph = makeGraph(nose_list, verbose_edges=True)\n",
    "nose_degree = sortNodesByDegree(nose_graph)"
   ]
  },
  {
   "cell_type": "markdown",
   "id": "organized-disposal",
   "metadata": {},
   "source": [
    "Now that we have a list of lemmatized nose descriptors (minus stopwords), we can apply the same processs to palate and finish\n",
    "### Tasting Note Analysis : Palate"
   ]
  },
  {
   "cell_type": "code",
   "execution_count": 42,
   "id": "electoral-washington",
   "metadata": {},
   "outputs": [],
   "source": [
    "# Extracting list of tasting notes from word\n",
    "palate_list = makeList(df.dropna().reset_index(), \"Palate\")\n",
    "\n",
    "# Making a preliminary graph and extracting words\n",
    "palate_graph_prelim = makeGraph(palate_list, verbose_edges=True)\n",
    "palate_deg = sortNodesByDegree(palate_graph_prelim)\n",
    "\n",
    "# Improving lemmatizer based on 500 stemmed common words\n",
    "addToLemmatizer(palate_deg, 200)"
   ]
  },
  {
   "cell_type": "code",
   "execution_count": 43,
   "id": "solid-syria",
   "metadata": {},
   "outputs": [
    {
     "name": "stdout",
     "output_type": "stream",
     "text": [
      "mr\n",
      "8\n",
      "90\n",
      "42\n",
      "ra\n",
      "el\n",
      "“\n",
      "”\n"
     ]
    }
   ],
   "source": [
    "for word in list(palate_deg[\"Descriptor\"]):\n",
    "    if len(word) < 3:\n",
    "        print(word)\n",
    "for word in list(palate_deg[\"Descriptor\"]):\n",
    "    if len(word) < 3:\n",
    "        swords.add(word)"
   ]
  },
  {
   "cell_type": "code",
   "execution_count": 44,
   "id": "unlimited-century",
   "metadata": {},
   "outputs": [],
   "source": [
    "# Remaking palate graph\n",
    "palate_graph = makeGraph(palate_list, verbose_edges=True)\n",
    "palate_degree = sortNodesByDegree(palate_graph)"
   ]
  },
  {
   "cell_type": "markdown",
   "id": "fabulous-nowhere",
   "metadata": {},
   "source": [
    "### Tasting Note Analysis : Finish"
   ]
  },
  {
   "cell_type": "code",
   "execution_count": 45,
   "id": "stylish-primary",
   "metadata": {},
   "outputs": [],
   "source": [
    "# Extracting list of tasting notes from word\n",
    "finish_list = makeList(df.dropna().reset_index(), \"Finish\")\n",
    "\n",
    "# Making a preliminary graph and extracting words\n",
    "finish_graph_prelim = makeGraph(finish_list, verbose_edges=True)\n",
    "finish_deg = sortNodesByDegree(finish_graph_prelim)"
   ]
  },
  {
   "cell_type": "code",
   "execution_count": 46,
   "id": "split-planning",
   "metadata": {},
   "outputs": [],
   "source": [
    "## Noticed that when using len_deg we got some intersting \n",
    "## results - instead looking at short words, all seem \n",
    "## weird - adding to stopwords\n",
    "for word in list(finish_deg[\"Descriptor\"]):\n",
    "    if len(word) < 3:\n",
    "        print(word)"
   ]
  },
  {
   "cell_type": "code",
   "execution_count": 47,
   "id": "superior-vermont",
   "metadata": {},
   "outputs": [],
   "source": [
    "addToLemmatizer(finish_deg, 200)"
   ]
  },
  {
   "cell_type": "code",
   "execution_count": 48,
   "id": "regulated-mount",
   "metadata": {},
   "outputs": [],
   "source": [
    "# Remaking finish graph\n",
    "finish_graph = makeGraph(finish_list, verbose_edges=True)\n",
    "finish_degree = sortNodesByDegree(finish_graph)"
   ]
  },
  {
   "cell_type": "markdown",
   "id": "mexican-syndicate",
   "metadata": {},
   "source": [
    "### Saving lemmatizer dictionary to json\n"
   ]
  },
  {
   "cell_type": "code",
   "execution_count": 49,
   "id": "peaceful-burst",
   "metadata": {},
   "outputs": [],
   "source": [
    "import json\n",
    "ldict = lemmatizer.whisky_words\n",
    "ldict[\"pepper\"] = \"pepper\"\n",
    "ldict[\"peppermint\"] = \"peppermint\"\n",
    "lemmatizer.whisky_words = ldict\n",
    "ldict\n",
    "with open(\"whiskynlp/whisky_lemmatizer_dict.json\", \"w\") as out:\n",
    "    json.dump(ldict, out)"
   ]
  },
  {
   "cell_type": "code",
   "execution_count": 50,
   "id": "detailed-ballot",
   "metadata": {},
   "outputs": [],
   "source": [
    "swords_l = list(swords)\n",
    "swords_j = {\"swords\":swords_l}\n",
    "with open(\"whiskynlp/stopwords.json\", \"w\") as out:\n",
    "    json.dump(swords_j, out)"
   ]
  },
  {
   "cell_type": "markdown",
   "id": "incredible-ceiling",
   "metadata": {},
   "source": [
    "### Tasting Note Analysis : Remaking graphs with updated lemmatizer"
   ]
  },
  {
   "cell_type": "code",
   "execution_count": 51,
   "id": "dressed-category",
   "metadata": {},
   "outputs": [],
   "source": [
    "# Remaking nose graph\n",
    "nose_graph = makeGraph(nose_list, verbose_edges=True)\n",
    "nose_degree = sortNodesByDegree(nose_graph)\n",
    "\n",
    "# Remaking palate graph\n",
    "palate_graph = makeGraph(palate_list, verbose_edges=True)\n",
    "palate_degree = sortNodesByDegree(palate_graph)\n",
    "\n",
    "# Remaking finish graph\n",
    "finish_graph = makeGraph(finish_list, verbose_edges=True)\n",
    "finish_degree = sortNodesByDegree(finish_graph)"
   ]
  },
  {
   "cell_type": "code",
   "execution_count": 52,
   "id": "victorian-color",
   "metadata": {},
   "outputs": [
    {
     "name": "stdout",
     "output_type": "stream",
     "text": [
      "N of Words: 10\n",
      "Nose : 920 unrepresented (18.81775414195132%)\n",
      "Palate : 752 unrepresented (15.381468602986295%)\n",
      "Finish : 1628 unrepresented (33.29924319901821%)\n",
      "\n",
      "N of Words: 20\n",
      "Nose : 280 unrepresented (5.727142564941706%)\n",
      "Palate : 196 unrepresented (4.008999795459194%)\n",
      "Finish : 733 unrepresented (14.992841071793823%)\n",
      "\n",
      "N of Words: 30\n",
      "Nose : 128 unrepresented (2.618122315401923%)\n",
      "Palate : 77 unrepresented (1.5749642053589692%)\n",
      "Finish : 457 unrepresented (9.347514829208427%)\n",
      "\n",
      "N of Words: 40\n",
      "Nose : 62 unrepresented (1.2681529965228062%)\n",
      "Palate : 45 unrepresented (0.9204336265084885%)\n",
      "Finish : 310 unrepresented (6.340764982614031%)\n",
      "\n",
      "N of Words: 50\n",
      "Nose : 30 unrepresented (0.6136224176723256%)\n",
      "Palate : 26 unrepresented (0.5318060953160155%)\n",
      "Finish : 212 unrepresented (4.336265084884435%)\n",
      "\n",
      "N of Words: 60\n",
      "Nose : 21 unrepresented (0.42953569237062794%)\n",
      "Palate : 21 unrepresented (0.42953569237062794%)\n",
      "Finish : 164 unrepresented (3.3544692166087136%)\n",
      "\n",
      "N of Words: 70\n",
      "Nose : 15 unrepresented (0.3068112088361628%)\n",
      "Palate : 10 unrepresented (0.2045408058907752%)\n",
      "Finish : 126 unrepresented (2.5772141542237677%)\n",
      "\n",
      "N of Words: 80\n",
      "Nose : 10 unrepresented (0.2045408058907752%)\n",
      "Palate : 6 unrepresented (0.12272448353446512%)\n",
      "Finish : 99 unrepresented (2.0249539783186745%)\n",
      "\n",
      "N of Words: 90\n",
      "Nose : 8 unrepresented (0.16363264471262018%)\n",
      "Palate : 5 unrepresented (0.1022704029453876%)\n",
      "Finish : 74 unrepresented (1.5136019635917366%)\n",
      "\n",
      "N of Words: 100\n",
      "Nose : 7 unrepresented (0.14317856412354266%)\n",
      "Palate : 0 unrepresented (0.0%)\n",
      "Finish : 60 unrepresented (1.2272448353446512%)\n",
      "\n",
      "N of Words: 110\n",
      "Nose : 4 unrepresented (0.08181632235631009%)\n",
      "Palate : 0 unrepresented (0.0%)\n",
      "Finish : 53 unrepresented (1.0840662712211087%)\n",
      "\n",
      "N of Words: 120\n",
      "Nose : 3 unrepresented (0.06136224176723256%)\n",
      "Palate : 0 unrepresented (0.0%)\n",
      "Finish : 48 unrepresented (0.981795868275721%)\n",
      "\n",
      "N of Words: 130\n",
      "Nose : 2 unrepresented (0.040908161178155045%)\n",
      "Palate : 0 unrepresented (0.0%)\n",
      "Finish : 42 unrepresented (0.8590713847412559%)\n",
      "\n",
      "N of Words: 140\n",
      "Nose : 2 unrepresented (0.040908161178155045%)\n",
      "Palate : 0 unrepresented (0.0%)\n",
      "Finish : 36 unrepresented (0.7363469012067908%)\n",
      "\n",
      "N of Words: 150\n",
      "Nose : 2 unrepresented (0.040908161178155045%)\n",
      "Palate : 0 unrepresented (0.0%)\n",
      "Finish : 31 unrepresented (0.6340764982614031%)\n",
      "\n"
     ]
    }
   ],
   "source": [
    "cuts = np.arange(10, 160, 10)\n",
    "\n",
    "len_nose = len(nose_list)\n",
    "len_palate = len(palate_list)\n",
    "len_finish = len(finish_list)\n",
    "\n",
    "for n in cuts:\n",
    "    nose_val = getUnrepresentedCount(nose_list, nose_degree[:n])\n",
    "    palate_val = getUnrepresentedCount(palate_list, palate_degree[:n])\n",
    "    finish_val = getUnrepresentedCount(finish_list, finish_degree[:n])\n",
    "    print(f\"N of Words: {n}\")\n",
    "    print(f\"Nose : {nose_val} unrepresented ({100 * nose_val / len_nose}%)\")\n",
    "    print(f\"Palate : {palate_val} unrepresented ({100 * palate_val / len_palate}%)\")\n",
    "    print(f\"Finish : {finish_val} unrepresented ({100 * finish_val / len_finish}%)\")\n",
    "    print()"
   ]
  },
  {
   "cell_type": "markdown",
   "id": "private-battle",
   "metadata": {},
   "source": [
    "Based on a quick look, 100 words for each seems to get a very good coverage of dataset"
   ]
  },
  {
   "cell_type": "markdown",
   "id": "aggregate-energy",
   "metadata": {},
   "source": [
    "## Building a vectoriser"
   ]
  },
  {
   "cell_type": "code",
   "execution_count": 53,
   "id": "accepting-measurement",
   "metadata": {},
   "outputs": [],
   "source": [
    "from whiskynlp.WhiskyLemmatizer import WhiskyLemmatizer\n",
    "\n",
    "lsta = nose_list[:6]\n",
    "features = [\"marmalade\", \"ginger\", \"malt\", \"peated\"]\n",
    "\n",
    "class ListFeatureVectorizer:\n",
    "    def __init__(self, features):\n",
    "        self.Lemmatizer = WhiskyLemmatizer()\n",
    "        self.features = self.Lemmatizer.lemmatizeList(features)\n",
    "    \n",
    "    def fit(self, input_list):\n",
    "        list_vec = []\n",
    "        \n",
    "        \n",
    "        for doc in input_list:\n",
    "            tokenized = self.Lemmatizer.tokenFilter(doc)\n",
    "            list_vec.append(\n",
    "                [tokenized.count(w) for w in self.features]\n",
    "            )\n",
    "            \n",
    "        outdf = pd.DataFrame(list_vec, columns=self.features)\n",
    "        return outdf\n",
    "    \n",
    "    def __repr__(self):\n",
    "        return \"<ListFeatureVectorizer>\""
   ]
  },
  {
   "cell_type": "code",
   "execution_count": 54,
   "id": "spectacular-child",
   "metadata": {},
   "outputs": [
    {
     "data": {
      "text/html": [
       "<div>\n",
       "<style scoped>\n",
       "    .dataframe tbody tr th:only-of-type {\n",
       "        vertical-align: middle;\n",
       "    }\n",
       "\n",
       "    .dataframe tbody tr th {\n",
       "        vertical-align: top;\n",
       "    }\n",
       "\n",
       "    .dataframe thead th {\n",
       "        text-align: right;\n",
       "    }\n",
       "</style>\n",
       "<table border=\"1\" class=\"dataframe\">\n",
       "  <thead>\n",
       "    <tr style=\"text-align: right;\">\n",
       "      <th></th>\n",
       "      <th>marmalade</th>\n",
       "      <th>ginger</th>\n",
       "      <th>malt</th>\n",
       "      <th>peat</th>\n",
       "    </tr>\n",
       "  </thead>\n",
       "  <tbody>\n",
       "    <tr>\n",
       "      <th>0</th>\n",
       "      <td>1</td>\n",
       "      <td>0</td>\n",
       "      <td>1</td>\n",
       "      <td>0</td>\n",
       "    </tr>\n",
       "    <tr>\n",
       "      <th>1</th>\n",
       "      <td>0</td>\n",
       "      <td>0</td>\n",
       "      <td>1</td>\n",
       "      <td>0</td>\n",
       "    </tr>\n",
       "    <tr>\n",
       "      <th>2</th>\n",
       "      <td>0</td>\n",
       "      <td>1</td>\n",
       "      <td>0</td>\n",
       "      <td>0</td>\n",
       "    </tr>\n",
       "    <tr>\n",
       "      <th>3</th>\n",
       "      <td>0</td>\n",
       "      <td>0</td>\n",
       "      <td>0</td>\n",
       "      <td>0</td>\n",
       "    </tr>\n",
       "    <tr>\n",
       "      <th>4</th>\n",
       "      <td>0</td>\n",
       "      <td>0</td>\n",
       "      <td>0</td>\n",
       "      <td>0</td>\n",
       "    </tr>\n",
       "    <tr>\n",
       "      <th>5</th>\n",
       "      <td>0</td>\n",
       "      <td>0</td>\n",
       "      <td>0</td>\n",
       "      <td>1</td>\n",
       "    </tr>\n",
       "  </tbody>\n",
       "</table>\n",
       "</div>"
      ],
      "text/plain": [
       "   marmalade  ginger  malt  peat\n",
       "0          1       0     1     0\n",
       "1          0       0     1     0\n",
       "2          0       1     0     0\n",
       "3          0       0     0     0\n",
       "4          0       0     0     0\n",
       "5          0       0     0     1"
      ]
     },
     "execution_count": 54,
     "metadata": {},
     "output_type": "execute_result"
    }
   ],
   "source": [
    "lfv = ListFeatureVectorizer(features)\n",
    "lfv.fit(lsta)"
   ]
  },
  {
   "cell_type": "markdown",
   "id": "dated-logistics",
   "metadata": {},
   "source": [
    "## Naive HCA Clustering with little preprocessing beyond vectorising\n",
    "Naive exploration.  Will amalgamate nose, palate and finish as one."
   ]
  },
  {
   "cell_type": "code",
   "execution_count": 55,
   "id": "living-oxygen",
   "metadata": {},
   "outputs": [],
   "source": [
    "from sklearn.cluster import AgglomerativeClustering\n",
    "from scipy.cluster.hierarchy import dendrogram\n",
    "# Getting features - 207 features\n",
    "n = 150\n",
    "\n",
    "nose_features = list(nose_degree[\"Descriptor\"])\n",
    "palate_features = list(palate_degree[\"Descriptor\"])\n",
    "finish_features = list(finish_degree[\"Descriptor\"])\n",
    "\n",
    "naive_features = list(\n",
    "    set(\n",
    "        nose_features[:n] +\n",
    "        palate_features[:n] +\n",
    "        finish_features[:n]\n",
    "\n",
    "    )\n",
    ")"
   ]
  },
  {
   "cell_type": "code",
   "execution_count": 56,
   "id": "meaning-graduate",
   "metadata": {},
   "outputs": [],
   "source": [
    "# Processing data frame to get nose, palate and finish all in one column.\n",
    "df[\"All\"] = df.Nose + df.Palate + df.Finish\n",
    "n_df = df.dropna(subset=[\"All\"]).reset_index()\n",
    "all_notes = makeList(n_df, \"All\")\n"
   ]
  },
  {
   "cell_type": "code",
   "execution_count": 57,
   "id": "senior-starter",
   "metadata": {},
   "outputs": [],
   "source": [
    "naive_lfv = ListFeatureVectorizer(naive_features)\n",
    "vectorised = naive_lfv.fit(all_notes)"
   ]
  },
  {
   "cell_type": "code",
   "execution_count": 58,
   "id": "sought-absolute",
   "metadata": {},
   "outputs": [],
   "source": [
    "vectorised[\"ID\"] = n_df.ID\n",
    "vectorised[\"Name\"] = n_df.Name\n",
    "vectorised_features = vectorised.drop([\"ID\",\"Name\"], axis=1)"
   ]
  },
  {
   "cell_type": "code",
   "execution_count": null,
   "id": "listed-uganda",
   "metadata": {},
   "outputs": [],
   "source": []
  },
  {
   "cell_type": "code",
   "execution_count": null,
   "id": "confidential-pharmacology",
   "metadata": {},
   "outputs": [],
   "source": [
    "hca =  AgglomerativeClustering(\n",
    "    n_clusters=12\n",
    "   \n",
    ")\n",
    "hca.fit(vectorised_features)"
   ]
  },
  {
   "cell_type": "code",
   "execution_count": null,
   "id": "cutting-fraction",
   "metadata": {},
   "outputs": [],
   "source": [
    "hca.labels_"
   ]
  },
  {
   "cell_type": "code",
   "execution_count": null,
   "id": "close-pavilion",
   "metadata": {},
   "outputs": [],
   "source": [
    "vectorised[\"HCA\"] = hca.labels_"
   ]
  },
  {
   "cell_type": "code",
   "execution_count": null,
   "id": "norwegian-beauty",
   "metadata": {},
   "outputs": [],
   "source": [
    "vectorised.head()"
   ]
  },
  {
   "cell_type": "code",
   "execution_count": null,
   "id": "capital-airline",
   "metadata": {},
   "outputs": [],
   "source": [
    "def bottleDetailsFromURL(URL, alg):\n",
    "    \"\"\"\n",
    "    Function for pure laziness... Because apparently I can't remember an md5 hash off the top of my head...\n",
    "    \"\"\"\n",
    "    bottle_id = n_df[n_df[\"URL\"] == URL][\"ID\"].values[0]\n",
    "    name = n_df[n_df[\"URL\"] == URL][\"Name\"].values[0]\n",
    "    cluster = vectorised[vectorised.ID == bottle_id][alg].values[0]\n",
    "    out = {\n",
    "        \"id\":bottle_id,\n",
    "        \"name\":name,\n",
    "        \"cluster\":cluster\n",
    "    }\n",
    "    return out\n",
    "\n",
    "def getClusterNames(cluster, alg):\n",
    "    return list(vectorised[vectorised[alg] == cluster].Name)"
   ]
  },
  {
   "cell_type": "code",
   "execution_count": null,
   "id": "gothic-electricity",
   "metadata": {},
   "outputs": [],
   "source": [
    "bottleDetailsFromURL(\"https://www.masterofmalt.com/whiskies/laphroaig-10-year-old-whisky/\",\"HCA\")"
   ]
  },
  {
   "cell_type": "code",
   "execution_count": null,
   "id": "about-engineering",
   "metadata": {},
   "outputs": [],
   "source": [
    "bottleDetailsFromURL(\"https://www.masterofmalt.com/whiskies/ardbeg/ardbeg-10-year-old-whisky/\",\"HCA\")"
   ]
  },
  {
   "cell_type": "code",
   "execution_count": null,
   "id": "confidential-blind",
   "metadata": {},
   "outputs": [],
   "source": [
    "bottleDetailsFromURL(\"https://www.masterofmalt.com/whiskies/highland-park/highland-park-12-year-old-viking-honour-whisky/\",\"HCA\")"
   ]
  },
  {
   "cell_type": "code",
   "execution_count": null,
   "id": "sound-chest",
   "metadata": {},
   "outputs": [],
   "source": [
    "bottleDetailsFromURL(\"https://www.masterofmalt.com/whiskies/springbank/springbank-12-year-old-cask-strength-56-3-whisky/\",\"HCA\")"
   ]
  },
  {
   "cell_type": "code",
   "execution_count": null,
   "id": "unlimited-theta",
   "metadata": {},
   "outputs": [],
   "source": [
    "bottleDetailsFromURL(\"https://www.masterofmalt.com/whiskies/talisker/talisker-10-year-old-whisky/\",\"HCA\")"
   ]
  },
  {
   "cell_type": "code",
   "execution_count": null,
   "id": "private-gross",
   "metadata": {},
   "outputs": [],
   "source": [
    "bottleDetailsFromURL(\"https://www.masterofmalt.com/whiskies/talisker/talisker-storm-whisky/\",\"HCA\")"
   ]
  },
  {
   "cell_type": "code",
   "execution_count": null,
   "id": "ongoing-judge",
   "metadata": {},
   "outputs": [],
   "source": [
    "bottleDetailsFromURL(\"https://www.masterofmalt.com/whiskies/the-macallan-12-year-old-sherry-oak-whisky/\",\"HCA\")"
   ]
  },
  {
   "cell_type": "code",
   "execution_count": null,
   "id": "statutory-husband",
   "metadata": {},
   "outputs": [],
   "source": [
    "bottleDetailsFromURL(\"https://www.masterofmalt.com/whiskies/glenfiddich-12-year-old-whisky/\",\"HCA\")"
   ]
  },
  {
   "cell_type": "code",
   "execution_count": null,
   "id": "rental-reconstruction",
   "metadata": {},
   "outputs": [],
   "source": [
    "getClusterNames(1,\"HCA\")"
   ]
  },
  {
   "cell_type": "code",
   "execution_count": null,
   "id": "cosmetic-machinery",
   "metadata": {},
   "outputs": [],
   "source": [
    "getClusterNames(5,\"HCA\")"
   ]
  },
  {
   "cell_type": "markdown",
   "id": "banned-least",
   "metadata": {},
   "source": [
    "## Naive kmeans Clustering with little preprocessing beyond vectorising\n",
    "Naive exploration.  Will amalgamate nose, palate and finish as one."
   ]
  },
  {
   "cell_type": "code",
   "execution_count": null,
   "id": "active-fundamentals",
   "metadata": {},
   "outputs": [],
   "source": [
    "from sklearn.cluster import KMeans\n",
    "kmeans =  KMeans(\n",
    "    n_clusters=8,\n",
    "    verbose=1,\n",
    "    n_init=100,\n",
    "    max_iter=1000\n",
    ")\n",
    "kmeans.fit(vectorised_features)"
   ]
  },
  {
   "cell_type": "code",
   "execution_count": null,
   "id": "conventional-deadline",
   "metadata": {},
   "outputs": [],
   "source": [
    "vectorised[\"kmeans\"] = kmeans.labels_\n",
    "vectorised.head()"
   ]
  },
  {
   "cell_type": "code",
   "execution_count": null,
   "id": "analyzed-bermuda",
   "metadata": {},
   "outputs": [],
   "source": [
    "bottleDetailsFromURL(\"https://www.masterofmalt.com/whiskies/laphroaig-10-year-old-whisky/\",\"kmeans\")"
   ]
  },
  {
   "cell_type": "code",
   "execution_count": null,
   "id": "desperate-breeding",
   "metadata": {},
   "outputs": [],
   "source": [
    "bottleDetailsFromURL(\"https://www.masterofmalt.com/whiskies/ardbeg/ardbeg-10-year-old-whisky/\",\"kmeans\")"
   ]
  },
  {
   "cell_type": "code",
   "execution_count": null,
   "id": "expired-patio",
   "metadata": {},
   "outputs": [],
   "source": [
    "bottleDetailsFromURL(\"https://www.masterofmalt.com/whiskies/talisker/talisker-10-year-old-whisky/\",\"kmeans\")"
   ]
  },
  {
   "cell_type": "code",
   "execution_count": null,
   "id": "spoken-thursday",
   "metadata": {},
   "outputs": [],
   "source": [
    "bottleDetailsFromURL(\"https://www.masterofmalt.com/whiskies/talisker/talisker-skye-whisky/\", \"kmeans\")"
   ]
  },
  {
   "cell_type": "code",
   "execution_count": null,
   "id": "italic-sodium",
   "metadata": {},
   "outputs": [],
   "source": [
    "bottleDetailsFromURL(\"https://www.masterofmalt.com/whiskies/talisker/talisker-storm-whisky/\", \"kmeans\")"
   ]
  },
  {
   "cell_type": "code",
   "execution_count": null,
   "id": "initial-optimum",
   "metadata": {},
   "outputs": [],
   "source": [
    "bottleDetailsFromURL(\"https://www.masterofmalt.com/whiskies/springbank/springbank-12-year-old-cask-strength-56-3-whisky/\",\"kmeans\")"
   ]
  },
  {
   "cell_type": "code",
   "execution_count": null,
   "id": "breathing-broadcasting",
   "metadata": {},
   "outputs": [],
   "source": [
    "bottleDetailsFromURL(\"https://www.masterofmalt.com/whiskies/highland-park/highland-park-12-year-old-viking-honour-whisky/\",\"kmeans\")"
   ]
  },
  {
   "cell_type": "code",
   "execution_count": null,
   "id": "contrary-gnome",
   "metadata": {},
   "outputs": [],
   "source": [
    "bottleDetailsFromURL(\"https://www.masterofmalt.com/whiskies/the-macallan-12-year-old-sherry-oak-whisky/\",\"kmeans\")"
   ]
  },
  {
   "cell_type": "code",
   "execution_count": null,
   "id": "opened-latino",
   "metadata": {},
   "outputs": [],
   "source": [
    "bottleDetailsFromURL(\"https://www.masterofmalt.com/whiskies/glenfiddich-12-year-old-whisky/\",\"kmeans\")"
   ]
  },
  {
   "cell_type": "code",
   "execution_count": null,
   "id": "changed-jewelry",
   "metadata": {},
   "outputs": [],
   "source": [
    "bottleDetailsFromURL(\"https://www.masterofmalt.com/whiskies/balvenie/balvenie-doublewood-12-year-old-whisky/\",\"kmeans\")"
   ]
  },
  {
   "cell_type": "code",
   "execution_count": null,
   "id": "noted-secret",
   "metadata": {},
   "outputs": [],
   "source": [
    "hca_islay = getClusterNames(1,\"HCA\")\n",
    "km_islay = getClusterNames(6,\"kmeans\")\n",
    "print(f\"Smoky HCA : {len(hca_islay)}\")\n",
    "print(f\"Smoky km : {len(km_islay)}\")"
   ]
  },
  {
   "cell_type": "code",
   "execution_count": null,
   "id": "analyzed-leonard",
   "metadata": {},
   "outputs": [],
   "source": [
    "km_islay"
   ]
  },
  {
   "cell_type": "code",
   "execution_count": null,
   "id": "difficult-tuner",
   "metadata": {},
   "outputs": [],
   "source": [
    "getClusterNames(0,\"kmeans\")"
   ]
  },
  {
   "cell_type": "code",
   "execution_count": null,
   "id": "equal-train",
   "metadata": {},
   "outputs": [],
   "source": []
  },
  {
   "cell_type": "markdown",
   "id": "imperial-choir",
   "metadata": {},
   "source": [
    "## Attempt at Elbow Method optimising k-means"
   ]
  },
  {
   "cell_type": "code",
   "execution_count": null,
   "id": "composite-terrorist",
   "metadata": {},
   "outputs": [],
   "source": [
    "import seaborn as sns\n",
    "import matplotlib.pyplot as plt\n",
    "sns.set(style='darkgrid')"
   ]
  },
  {
   "cell_type": "raw",
   "id": "several-resource",
   "metadata": {},
   "source": [
    "n_clusters = np.arange(1, 30)\n",
    "inertia = []\n",
    "for n in n_clusters:\n",
    "    kmeans =  KMeans(\n",
    "    n_clusters=n,\n",
    "    verbose=1,\n",
    "    n_init=20,\n",
    "    max_iter=1000\n",
    "    )\n",
    "    kmeans.fit(vectorised_features)\n",
    "    inertia.append(kmeans.inertia_)"
   ]
  },
  {
   "cell_type": "raw",
   "id": "incoming-underground",
   "metadata": {},
   "source": [
    "plt.plot(n_clusters, inertia)\n",
    "ax = plt.gca()\n",
    "ax.set_xlabel(\"k\")\n",
    "ax.set_ylabel(\"inertia\")\n",
    "plt.title(\"Inertia aganst K with KNN clustering\")"
   ]
  },
  {
   "cell_type": "code",
   "execution_count": null,
   "id": "celtic-pierre",
   "metadata": {},
   "outputs": [],
   "source": []
  },
  {
   "cell_type": "markdown",
   "id": "optimum-bracket",
   "metadata": {},
   "source": [
    "## Gaussian Mixture"
   ]
  },
  {
   "cell_type": "code",
   "execution_count": null,
   "id": "minor-revolution",
   "metadata": {},
   "outputs": [],
   "source": [
    "from sklearn.cluster import KMeans\n",
    "kmeans =  KMeans(\n",
    "    n_clusters=8,\n",
    "    verbose=1,\n",
    "    n_init=100,\n",
    "    max_iter=1000\n",
    ")\n",
    "kmeans.fit(vectorised_features)\n",
    "vectorised[\"kmeans\"] = kmeans.labels_\n",
    "vectorised.head()"
   ]
  }
 ],
 "metadata": {
  "kernelspec": {
   "display_name": "Python 3",
   "language": "python",
   "name": "python3"
  },
  "language_info": {
   "codemirror_mode": {
    "name": "ipython",
    "version": 3
   },
   "file_extension": ".py",
   "mimetype": "text/x-python",
   "name": "python",
   "nbconvert_exporter": "python",
   "pygments_lexer": "ipython3",
   "version": "3.9.1"
  }
 },
 "nbformat": 4,
 "nbformat_minor": 5
}
