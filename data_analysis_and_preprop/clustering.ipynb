{
 "cells": [
  {
   "cell_type": "markdown",
   "id": "refined-russell",
   "metadata": {},
   "source": [
    "# Tokenizing and Clustering"
   ]
  },
  {
   "cell_type": "code",
   "execution_count": 1,
   "id": "spatial-underground",
   "metadata": {},
   "outputs": [],
   "source": [
    "import pprint\n",
    "from operator import itemgetter\n",
    "# Useful functions\n",
    "\n",
    "def hashEl(name, url):\n",
    "    \"\"\"\n",
    "    MD5 hash of Name and URL\n",
    "    Hash each individually, use max/min functions to ensure hash 2 happens in same order irrespective of which get's input first.\n",
    "    \"\"\"\n",
    "    h1 = md5(name.encode()).hexdigest()\n",
    "    h2 = md5(url.encode()).hexdigest()\n",
    "    h3 = max(h1, h2) + min(h1, h2)\n",
    "    h4 = md5(h3.encode()).hexdigest()\n",
    "    return h3\n",
    "\n",
    "def bottleDetailsFromURL(df, URL, alg):\n",
    "    \"\"\"\n",
    "    Function for pure laziness... Because apparently I can't remember an md5 hash off the top of my head...\n",
    "    \"\"\"\n",
    "    bottle_id = n_df[n_df[\"URL\"] == URL][\"ID\"].values[0]\n",
    "    name = n_df[n_df[\"URL\"] == URL][\"Name\"].values[0]\n",
    "    cluster = df[df.ID == bottle_id][alg].values[0]\n",
    "    out = {\n",
    "        \"id\":bottle_id,\n",
    "        \"name\":name,\n",
    "        \"cluster\":cluster\n",
    "    }\n",
    "    return out\n",
    "\n",
    "def bottleDetailsFromURLS(df,URLS, alg,verbose=True):\n",
    "    clusters = {}\n",
    "    for URL in URLS:\n",
    "        details = bottleDetailsFromURL(df, URL[0], alg)\n",
    "        name = details['name']\n",
    "        cluster = details['cluster']\n",
    "        if verbose:\n",
    "            print(f\"Whisky: {name}\\n---- {alg} Cluster: {cluster}\")\n",
    "        if cluster in clusters.keys():\n",
    "            clusters[cluster].append(name)\n",
    "        else:\n",
    "            clusters[cluster] = [name]\n",
    "    return clusters\n",
    "\n",
    "def getClusterNames(cluster, alg):\n",
    "    return list(vectorised[vectorised[alg] == cluster].Name)\n",
    "\n",
    "\n",
    "\n",
    "def topN(lst, depth):\n",
    "    lst.sort(key=itemgetter(1), reverse=True)\n",
    "    return lst[:depth]\n",
    "    \n",
    "    \n",
    "    \n",
    "from operator import itemgetter\n",
    "\n",
    "def topN(lst, depth):\n",
    "    lst.sort(key=itemgetter(1), reverse=True)\n",
    "    return lst[:depth]\n",
    "    \n",
    "def getClusterDescriptions(alg, df, depth):\n",
    "    features = df.columns\n",
    "    centers = alg.cluster_centers_\n",
    "    descs = {}\n",
    "    for idx , center in enumerate(centers):\n",
    "        fcenter = list(zip(features, center))\n",
    "        descs[idx] = topN(fcenter, depth)\n",
    "    return descs\n",
    "    \n",
    "    \n",
    "def methodOutputSummary(vectorised, vec_features, urls, model, model_name):\n",
    "    clusters = bottleDetailsFromURLS(vectorised, urls, model_name, verbose=False)\n",
    "    descs = getClusterDescriptions(kmeans, vec_features, 3)\n",
    "    print(f\"Summary for model {model_name}\")\n",
    "    for key in descs.keys():\n",
    "        if key in clusters.keys():\n",
    "            description = \", \".join([d[0] for d in descs[key]])\n",
    "            members = \", \".join([d for d in clusters[key]])\n",
    "            print(f\"Cluster: {key}\")\n",
    "            print(f\"Cluster Description:\")\n",
    "            print(f\"---- {description}\")\n",
    "            print(f\"Cluster Members:\")\n",
    "            print(f\"---- {members}\")\n",
    "            print(\"\")"
   ]
  },
  {
   "cell_type": "code",
   "execution_count": 2,
   "id": "external-trigger",
   "metadata": {},
   "outputs": [],
   "source": [
    "interesting_urls = [\n",
    "    (\"https://www.masterofmalt.com/whiskies/dalmore-15-year-old-whisky/\", \"A\"),\n",
    "    (\"https://www.masterofmalt.com/whiskies/glendronach/the-glendronach-12-year-old-whisky/\", \"A\"),\n",
    "    (\"https://www.masterofmalt.com/whiskies/royal-lochnagar-12-year-old-whisky/\", \"A\"),\n",
    "    (\"https://www.masterofmalt.com/whiskies/edradour-10-year-old-whisky/\", \"B\"),\n",
    "    (\"https://www.masterofmalt.com/whiskies/aberlour/aberlour-abunadh-whisky/\", \"B\"),\n",
    "    (\"https://www.masterofmalt.com/whiskies/blair-athol-12-year-old-whisky/\", \"B\"),\n",
    "    (\"https://www.masterofmalt.com/whiskies/balvenie/balvenie-doublewood-12-year-old-whisky/\", \"C\"),\n",
    "    (\"https://www.masterofmalt.com/whiskies/glen-elgin/glen-elgin-14-year-old-derestricted-whisky/\", \"C\"),\n",
    "    (\"https://www.masterofmalt.com/whiskies/auchentoshan-12-year-old-whisky/\", \"D\"),\n",
    "    (\"https://www.masterofmalt.com/whiskies/bunnahabhain/bunnahabhain-stiuireadair-whisky/\", \"E\"),\n",
    "    (\"https://www.masterofmalt.com/whiskies/glenallachie/glenallachie-12-year-old-whisky/\", \"E\"),\n",
    "    (\"https://www.masterofmalt.com/whiskies/deanston-12-year-old-whisky/\", \"F\"),\n",
    "    (\"https://www.masterofmalt.com/whiskies/glenrothes/glenrothes-12-year-old-soleo-collection-whisky/\", \"F\"),\n",
    "    (\"https://www.masterofmalt.com/whiskies/arran/arran-10-year-old-whisky/\", \"G\"),\n",
    "    (\"https://www.masterofmalt.com/whiskies/glenfiddich-12-year-old-whisky/\", \"G\"),\n",
    "    (\"https://www.masterofmalt.com/whiskies/glenmorangie/glenmorangie-10-year-old-the-original-whisky/\", \"H\"),\n",
    "    (\"https://www.masterofmalt.com/whiskies/pulteney/old-pulteney-12-year-old-whisky/\", \"H\"),\n",
    "    (\"https://www.masterofmalt.com/whiskies/bowmore/bowmore-15-year-old-whisky/\", \"I\"),\n",
    "    (\"https://www.masterofmalt.com/whiskies/highland-park/highland-park-12-year-old-viking-honour-whisky/\", \"I\"),\n",
    "    (\"https://www.masterofmalt.com/whiskies/bruichladdich/bruichladdich-scottish-barley-the-classic-laddie-whisky/\", \"I\"),\n",
    "    (\"https://www.masterofmalt.com/whiskies/laphroaig-10-year-old-whisky/\", \"J\"),\n",
    "    (\"https://www.masterofmalt.com/whiskies/ardbeg/ardbeg-10-year-old-whisky/\", \"J\"),\n",
    "    (\"https://www.masterofmalt.com/whiskies/talisker/talisker-10-year-old-whisky/\", \"J\")\n",
    "]"
   ]
  },
  {
   "cell_type": "markdown",
   "id": "pacific-effect",
   "metadata": {},
   "source": [
    "## Applying preprocessing from data"
   ]
  },
  {
   "cell_type": "code",
   "execution_count": 3,
   "id": "noticed-poland",
   "metadata": {},
   "outputs": [],
   "source": [
    "import pandas as pd\n",
    "import numpy as np\n"
   ]
  },
  {
   "cell_type": "code",
   "execution_count": 4,
   "id": "completed-printer",
   "metadata": {},
   "outputs": [],
   "source": [
    "df = pd.read_csv(\"scotch-no-dupes.csv\")"
   ]
  },
  {
   "cell_type": "code",
   "execution_count": 5,
   "id": "fitting-island",
   "metadata": {},
   "outputs": [
    {
     "data": {
      "text/html": [
       "<div>\n",
       "<style scoped>\n",
       "    .dataframe tbody tr th:only-of-type {\n",
       "        vertical-align: middle;\n",
       "    }\n",
       "\n",
       "    .dataframe tbody tr th {\n",
       "        vertical-align: top;\n",
       "    }\n",
       "\n",
       "    .dataframe thead th {\n",
       "        text-align: right;\n",
       "    }\n",
       "</style>\n",
       "<table border=\"1\" class=\"dataframe\">\n",
       "  <thead>\n",
       "    <tr style=\"text-align: right;\">\n",
       "      <th></th>\n",
       "      <th>ID</th>\n",
       "      <th>Type</th>\n",
       "      <th>Name</th>\n",
       "      <th>Description</th>\n",
       "      <th>Nose</th>\n",
       "      <th>Palate</th>\n",
       "      <th>Finish</th>\n",
       "      <th>Price</th>\n",
       "      <th>Size</th>\n",
       "      <th>Abv</th>\n",
       "      <th>URL</th>\n",
       "    </tr>\n",
       "  </thead>\n",
       "  <tbody>\n",
       "    <tr>\n",
       "      <th>0</th>\n",
       "      <td>495334d7384f4c9a933a156cb57639770cd9c8bca00ac7...</td>\n",
       "      <td>blended malt scotch</td>\n",
       "      <td>Monkey Shoulder Blended Malt Scotch Whisky</td>\n",
       "      <td>Monkey Shoulder Scotch is a superb blended mal...</td>\n",
       "      <td>An elegant, stylish nose of marmalade, Crema C...</td>\n",
       "      <td>Very malty, creamy delivery with a suggestion ...</td>\n",
       "      <td>Medium length, spicy oak and a hint of pepperm...</td>\n",
       "      <td>25.94</td>\n",
       "      <td>70.0</td>\n",
       "      <td>40.0</td>\n",
       "      <td>https://www.masterofmalt.com/whiskies/monkey-s...</td>\n",
       "    </tr>\n",
       "    <tr>\n",
       "      <th>1</th>\n",
       "      <td>e193fa8dee0bb9422054efd5dfb7f2c2628815243b584b...</td>\n",
       "      <td>blended malt scotch</td>\n",
       "      <td>Johnnie Walker Green Label 15 Year Old</td>\n",
       "      <td>One of those harder-to-find whiskies, Johnnie ...</td>\n",
       "      <td>NaN</td>\n",
       "      <td>NaN</td>\n",
       "      <td>NaN</td>\n",
       "      <td>38.95</td>\n",
       "      <td>70.0</td>\n",
       "      <td>43.0</td>\n",
       "      <td>https://www.masterofmalt.com/whiskies/johnnie-...</td>\n",
       "    </tr>\n",
       "    <tr>\n",
       "      <th>2</th>\n",
       "      <td>d3ba34da7b98276f2da2ab313ff9e6cdc5d476d253a05e...</td>\n",
       "      <td>blended malt scotch</td>\n",
       "      <td>The Naked Grouse</td>\n",
       "      <td>An interesting addition to the Famous Grouse r...</td>\n",
       "      <td>Smooth and oily with notes of cherry compote, ...</td>\n",
       "      <td>Sherried and thick with notes of sultanas, sti...</td>\n",
       "      <td>Medium, with notes of cocoa, oak and just a so...</td>\n",
       "      <td>26.49</td>\n",
       "      <td>70.0</td>\n",
       "      <td>40.0</td>\n",
       "      <td>https://www.masterofmalt.com/whiskies/naked-gr...</td>\n",
       "    </tr>\n",
       "    <tr>\n",
       "      <th>3</th>\n",
       "      <td>b74f75c04d65218b3b094130583f53b58b58d331f47d44...</td>\n",
       "      <td>blended malt scotch</td>\n",
       "      <td>Scallywag</td>\n",
       "      <td>Big Peat's gone and got himself a trusty sidek...</td>\n",
       "      <td>Sweetness jumps up like an excited puppy. Icin...</td>\n",
       "      <td>The sweetness surprisingly retreats, revealing...</td>\n",
       "      <td>A pinch of oak spice joins the vanilla and she...</td>\n",
       "      <td>38.75</td>\n",
       "      <td>70.0</td>\n",
       "      <td>46.0</td>\n",
       "      <td>https://www.masterofmalt.com/whiskies/douglas-...</td>\n",
       "    </tr>\n",
       "    <tr>\n",
       "      <th>4</th>\n",
       "      <td>a6f33f754e0dbb178b5fef3ff0d031f470918b9477703c...</td>\n",
       "      <td>blended malt scotch</td>\n",
       "      <td>Monkey Shoulder Smokey Monkey</td>\n",
       "      <td>A peaty variant of the excellent Monkey Should...</td>\n",
       "      <td>Honeydew melon, flamed orange peel, a touch of...</td>\n",
       "      <td>Vanilla sits at the core, its earthy notes bol...</td>\n",
       "      <td>Toffee Crisp bars and the last wafts of drying...</td>\n",
       "      <td>27.44</td>\n",
       "      <td>70.0</td>\n",
       "      <td>40.0</td>\n",
       "      <td>https://www.masterofmalt.com/whiskies/monkey-s...</td>\n",
       "    </tr>\n",
       "  </tbody>\n",
       "</table>\n",
       "</div>"
      ],
      "text/plain": [
       "                                                  ID                 Type  \\\n",
       "0  495334d7384f4c9a933a156cb57639770cd9c8bca00ac7...  blended malt scotch   \n",
       "1  e193fa8dee0bb9422054efd5dfb7f2c2628815243b584b...  blended malt scotch   \n",
       "2  d3ba34da7b98276f2da2ab313ff9e6cdc5d476d253a05e...  blended malt scotch   \n",
       "3  b74f75c04d65218b3b094130583f53b58b58d331f47d44...  blended malt scotch   \n",
       "4  a6f33f754e0dbb178b5fef3ff0d031f470918b9477703c...  blended malt scotch   \n",
       "\n",
       "                                         Name  \\\n",
       "0  Monkey Shoulder Blended Malt Scotch Whisky   \n",
       "1      Johnnie Walker Green Label 15 Year Old   \n",
       "2                            The Naked Grouse   \n",
       "3                                   Scallywag   \n",
       "4               Monkey Shoulder Smokey Monkey   \n",
       "\n",
       "                                         Description  \\\n",
       "0  Monkey Shoulder Scotch is a superb blended mal...   \n",
       "1  One of those harder-to-find whiskies, Johnnie ...   \n",
       "2  An interesting addition to the Famous Grouse r...   \n",
       "3  Big Peat's gone and got himself a trusty sidek...   \n",
       "4  A peaty variant of the excellent Monkey Should...   \n",
       "\n",
       "                                                Nose  \\\n",
       "0  An elegant, stylish nose of marmalade, Crema C...   \n",
       "1                                                NaN   \n",
       "2  Smooth and oily with notes of cherry compote, ...   \n",
       "3  Sweetness jumps up like an excited puppy. Icin...   \n",
       "4  Honeydew melon, flamed orange peel, a touch of...   \n",
       "\n",
       "                                              Palate  \\\n",
       "0  Very malty, creamy delivery with a suggestion ...   \n",
       "1                                                NaN   \n",
       "2  Sherried and thick with notes of sultanas, sti...   \n",
       "3  The sweetness surprisingly retreats, revealing...   \n",
       "4  Vanilla sits at the core, its earthy notes bol...   \n",
       "\n",
       "                                              Finish  Price  Size   Abv  \\\n",
       "0  Medium length, spicy oak and a hint of pepperm...  25.94  70.0  40.0   \n",
       "1                                                NaN  38.95  70.0  43.0   \n",
       "2  Medium, with notes of cocoa, oak and just a so...  26.49  70.0  40.0   \n",
       "3  A pinch of oak spice joins the vanilla and she...  38.75  70.0  46.0   \n",
       "4  Toffee Crisp bars and the last wafts of drying...  27.44  70.0  40.0   \n",
       "\n",
       "                                                 URL  \n",
       "0  https://www.masterofmalt.com/whiskies/monkey-s...  \n",
       "1  https://www.masterofmalt.com/whiskies/johnnie-...  \n",
       "2  https://www.masterofmalt.com/whiskies/naked-gr...  \n",
       "3  https://www.masterofmalt.com/whiskies/douglas-...  \n",
       "4  https://www.masterofmalt.com/whiskies/monkey-s...  "
      ]
     },
     "execution_count": 5,
     "metadata": {},
     "output_type": "execute_result"
    }
   ],
   "source": [
    "df.head()"
   ]
  },
  {
   "cell_type": "markdown",
   "id": "lucky-captain",
   "metadata": {},
   "source": [
    "We load the WhiskyLemmatizer made in previous steps, and use this to process our graph, aiming to make a vectorised dataset"
   ]
  },
  {
   "cell_type": "code",
   "execution_count": 6,
   "id": "nominated-medication",
   "metadata": {},
   "outputs": [
    {
     "name": "stdout",
     "output_type": "stream",
     "text": [
      "Building Corpus\n",
      "Building Graph\n",
      "Candidate Keywords Selected\n",
      "Edges Created\n",
      "Ranking Nodes\n",
      "Building Corpus\n",
      "Building Graph\n",
      "Candidate Keywords Selected\n",
      "Edges Created\n",
      "Ranking Nodes\n",
      "Building Corpus\n",
      "Building Graph\n",
      "Candidate Keywords Selected\n",
      "Edges Created\n",
      "Ranking Nodes\n"
     ]
    }
   ],
   "source": [
    "from whiskynlp.GraphKeywordExtraction import GraphKE\n",
    "from whiskynlp.Vectorizer import ListFeatureVectorizer\n",
    "\n",
    "KE = GraphKE()\n",
    "\n",
    "# nose graph\n",
    "nose_kw = KE.keywordExtract(df, \"Nose\")\n",
    "nose_graph = KE.G\n",
    "# palate graph\n",
    "palate_kw = KE.keywordExtract(df, \"Palate\")\n",
    "palate_graph = KE.G\n",
    "\n",
    "# finish graph\n",
    "finish_kw = KE.keywordExtract(df, \"Finish\")\n",
    "finish_graph = KE.G\n"
   ]
  },
  {
   "cell_type": "code",
   "execution_count": 7,
   "id": "stock-colors",
   "metadata": {},
   "outputs": [],
   "source": [
    "def displayNKwords(kwords, n):\n",
    "    kwords =\" \".join([kword[0] for kword in kwords][:n])\n",
    "    print(kwords)"
   ]
  },
  {
   "cell_type": "code",
   "execution_count": 8,
   "id": "grave-toronto",
   "metadata": {},
   "outputs": [
    {
     "name": "stdout",
     "output_type": "stream",
     "text": [
      "fruit sweet spice oak vanilla chocolate smoke malt honey pepper apple dry cream orange rich nut butter cinnamon peat toffee peel barley sugar black ginger fresh oil toast develop salt caramel dark little citrus lemon sherry red spicy thick soft white wood warm raisin balance pear berry brown apricot char biscuit almond juicy herb slight milk zest follow coffee cake syrup bit tropical clove earthy sea jam plum floral green walnut grape light big first marmalade pine orchard custard still grass banana stew peach sultana cereal quite ice cherry come candy lot lead bread though cocoa heat core well anise\n"
     ]
    }
   ],
   "source": [
    "displayNKwords(palate_kw,100)"
   ]
  },
  {
   "cell_type": "markdown",
   "id": "anonymous-detroit",
   "metadata": {},
   "source": [
    "## Naive Features\n",
    "Proof of concept - taking 200 top of all, amalgamating into a set, and ignoring any difference between nose, palate and finish."
   ]
  },
  {
   "cell_type": "code",
   "execution_count": 9,
   "id": "limited-eight",
   "metadata": {},
   "outputs": [],
   "source": [
    "def amalgamateLists(lsts):\n",
    "    amal = []\n",
    "    for lst in lsts:\n",
    "        # Unzip and convert to list\n",
    "        lst = list(list(zip(*lst))[0])\n",
    "        amal = amal + lst\n",
    "    set_amal = set(amal)\n",
    "    return list(set_amal)"
   ]
  },
  {
   "cell_type": "code",
   "execution_count": 112,
   "id": "lesbian-thanksgiving",
   "metadata": {},
   "outputs": [
    {
     "data": {
      "text/plain": [
       "196"
      ]
     },
     "execution_count": 112,
     "metadata": {},
     "output_type": "execute_result"
    }
   ],
   "source": [
    "all_kws = amalgamateLists([\n",
    "    nose_kw[:150],\n",
    "    palate_kw[:150],\n",
    "    finish_kw[:150]\n",
    "    \n",
    "])\n",
    "len(all_kws)"
   ]
  },
  {
   "cell_type": "code",
   "execution_count": 113,
   "id": "informative-tragedy",
   "metadata": {},
   "outputs": [],
   "source": [
    "df[\"All\"] = df.Nose + \" \" + df.Palate + \" \" + df.Finish  + \" \" + df.Description"
   ]
  },
  {
   "cell_type": "code",
   "execution_count": 114,
   "id": "stylish-missouri",
   "metadata": {},
   "outputs": [],
   "source": [
    "lfv = ListFeatureVectorizer(all_kws)\n",
    "n_df, all_lst = lfv.prepropRemoveNas(df, \"All\")"
   ]
  },
  {
   "cell_type": "code",
   "execution_count": 115,
   "id": "protecting-quality",
   "metadata": {},
   "outputs": [],
   "source": [
    "vectorised = lfv.fit(all_lst, True)"
   ]
  },
  {
   "cell_type": "code",
   "execution_count": 116,
   "id": "statutory-companion",
   "metadata": {},
   "outputs": [],
   "source": [
    "# Adding ID and name to vectorised list\n",
    "vectorised[\"ID\"] = n_df.ID\n",
    "vectorised[\"Name\"] = n_df.Name\n"
   ]
  },
  {
   "cell_type": "code",
   "execution_count": 117,
   "id": "empirical-jimmy",
   "metadata": {},
   "outputs": [],
   "source": [
    "# Saving to csv - can avoid in future\n",
    "vectorised.to_csv(\"vectorised_all.csv\", index=False)"
   ]
  },
  {
   "cell_type": "code",
   "execution_count": 118,
   "id": "turned-reward",
   "metadata": {},
   "outputs": [],
   "source": [
    "#vectorised_features = vectorised.drop([\"ID\",\"Name\"], axis=1)"
   ]
  },
  {
   "cell_type": "code",
   "execution_count": 119,
   "id": "tight-space",
   "metadata": {},
   "outputs": [
    {
     "data": {
      "text/html": [
       "<div>\n",
       "<style scoped>\n",
       "    .dataframe tbody tr th:only-of-type {\n",
       "        vertical-align: middle;\n",
       "    }\n",
       "\n",
       "    .dataframe tbody tr th {\n",
       "        vertical-align: top;\n",
       "    }\n",
       "\n",
       "    .dataframe thead th {\n",
       "        text-align: right;\n",
       "    }\n",
       "</style>\n",
       "<table border=\"1\" class=\"dataframe\">\n",
       "  <thead>\n",
       "    <tr style=\"text-align: right;\">\n",
       "      <th></th>\n",
       "      <th>dark</th>\n",
       "      <th>support</th>\n",
       "      <th>thick</th>\n",
       "      <th>apricot</th>\n",
       "      <th>round</th>\n",
       "      <th>bean</th>\n",
       "      <th>nut</th>\n",
       "      <th>oak</th>\n",
       "      <th>ice</th>\n",
       "      <th>subtle</th>\n",
       "      <th>...</th>\n",
       "      <th>big</th>\n",
       "      <th>return</th>\n",
       "      <th>still</th>\n",
       "      <th>tea</th>\n",
       "      <th>meat</th>\n",
       "      <th>treacle</th>\n",
       "      <th>tobacco</th>\n",
       "      <th>allspice</th>\n",
       "      <th>ID</th>\n",
       "      <th>Name</th>\n",
       "    </tr>\n",
       "  </thead>\n",
       "  <tbody>\n",
       "    <tr>\n",
       "      <th>0</th>\n",
       "      <td>0.0</td>\n",
       "      <td>0.0</td>\n",
       "      <td>0.000000</td>\n",
       "      <td>0.133631</td>\n",
       "      <td>0.0</td>\n",
       "      <td>0.0</td>\n",
       "      <td>0.133631</td>\n",
       "      <td>0.133631</td>\n",
       "      <td>0.133631</td>\n",
       "      <td>0.0</td>\n",
       "      <td>...</td>\n",
       "      <td>0.0</td>\n",
       "      <td>0.0</td>\n",
       "      <td>0.0</td>\n",
       "      <td>0.0</td>\n",
       "      <td>0.0</td>\n",
       "      <td>0.0</td>\n",
       "      <td>0.0</td>\n",
       "      <td>0.0</td>\n",
       "      <td>495334d7384f4c9a933a156cb57639770cd9c8bca00ac7...</td>\n",
       "      <td>Monkey Shoulder Blended Malt Scotch Whisky</td>\n",
       "    </tr>\n",
       "    <tr>\n",
       "      <th>1</th>\n",
       "      <td>0.0</td>\n",
       "      <td>0.0</td>\n",
       "      <td>0.196116</td>\n",
       "      <td>0.000000</td>\n",
       "      <td>0.0</td>\n",
       "      <td>0.0</td>\n",
       "      <td>0.000000</td>\n",
       "      <td>0.196116</td>\n",
       "      <td>0.000000</td>\n",
       "      <td>0.0</td>\n",
       "      <td>...</td>\n",
       "      <td>0.0</td>\n",
       "      <td>0.0</td>\n",
       "      <td>0.0</td>\n",
       "      <td>0.0</td>\n",
       "      <td>0.0</td>\n",
       "      <td>0.0</td>\n",
       "      <td>0.0</td>\n",
       "      <td>0.0</td>\n",
       "      <td>d3ba34da7b98276f2da2ab313ff9e6cdc5d476d253a05e...</td>\n",
       "      <td>The Naked Grouse</td>\n",
       "    </tr>\n",
       "    <tr>\n",
       "      <th>2</th>\n",
       "      <td>0.0</td>\n",
       "      <td>0.0</td>\n",
       "      <td>0.000000</td>\n",
       "      <td>0.000000</td>\n",
       "      <td>0.0</td>\n",
       "      <td>0.0</td>\n",
       "      <td>0.162221</td>\n",
       "      <td>0.162221</td>\n",
       "      <td>0.000000</td>\n",
       "      <td>0.0</td>\n",
       "      <td>...</td>\n",
       "      <td>0.0</td>\n",
       "      <td>0.0</td>\n",
       "      <td>0.0</td>\n",
       "      <td>0.0</td>\n",
       "      <td>0.0</td>\n",
       "      <td>0.0</td>\n",
       "      <td>0.0</td>\n",
       "      <td>0.0</td>\n",
       "      <td>b74f75c04d65218b3b094130583f53b58b58d331f47d44...</td>\n",
       "      <td>Scallywag</td>\n",
       "    </tr>\n",
       "    <tr>\n",
       "      <th>3</th>\n",
       "      <td>0.0</td>\n",
       "      <td>0.0</td>\n",
       "      <td>0.000000</td>\n",
       "      <td>0.000000</td>\n",
       "      <td>0.0</td>\n",
       "      <td>0.0</td>\n",
       "      <td>0.000000</td>\n",
       "      <td>0.000000</td>\n",
       "      <td>0.000000</td>\n",
       "      <td>0.0</td>\n",
       "      <td>...</td>\n",
       "      <td>0.0</td>\n",
       "      <td>0.0</td>\n",
       "      <td>0.0</td>\n",
       "      <td>0.0</td>\n",
       "      <td>0.0</td>\n",
       "      <td>0.0</td>\n",
       "      <td>0.0</td>\n",
       "      <td>0.0</td>\n",
       "      <td>a6f33f754e0dbb178b5fef3ff0d031f470918b9477703c...</td>\n",
       "      <td>Monkey Shoulder Smokey Monkey</td>\n",
       "    </tr>\n",
       "    <tr>\n",
       "      <th>4</th>\n",
       "      <td>0.0</td>\n",
       "      <td>0.0</td>\n",
       "      <td>0.000000</td>\n",
       "      <td>0.182574</td>\n",
       "      <td>0.0</td>\n",
       "      <td>0.0</td>\n",
       "      <td>0.000000</td>\n",
       "      <td>0.000000</td>\n",
       "      <td>0.000000</td>\n",
       "      <td>0.0</td>\n",
       "      <td>...</td>\n",
       "      <td>0.0</td>\n",
       "      <td>0.0</td>\n",
       "      <td>0.0</td>\n",
       "      <td>0.0</td>\n",
       "      <td>0.0</td>\n",
       "      <td>0.0</td>\n",
       "      <td>0.0</td>\n",
       "      <td>0.0</td>\n",
       "      <td>963812f735e400dab236b19de57b52bc899bc79f0f713d...</td>\n",
       "      <td>Timorous Beastie</td>\n",
       "    </tr>\n",
       "  </tbody>\n",
       "</table>\n",
       "<p>5 rows × 198 columns</p>\n",
       "</div>"
      ],
      "text/plain": [
       "   dark  support     thick   apricot  round  bean       nut       oak  \\\n",
       "0   0.0      0.0  0.000000  0.133631    0.0   0.0  0.133631  0.133631   \n",
       "1   0.0      0.0  0.196116  0.000000    0.0   0.0  0.000000  0.196116   \n",
       "2   0.0      0.0  0.000000  0.000000    0.0   0.0  0.162221  0.162221   \n",
       "3   0.0      0.0  0.000000  0.000000    0.0   0.0  0.000000  0.000000   \n",
       "4   0.0      0.0  0.000000  0.182574    0.0   0.0  0.000000  0.000000   \n",
       "\n",
       "        ice  subtle  ...  big  return  still  tea  meat  treacle  tobacco  \\\n",
       "0  0.133631     0.0  ...  0.0     0.0    0.0  0.0   0.0      0.0      0.0   \n",
       "1  0.000000     0.0  ...  0.0     0.0    0.0  0.0   0.0      0.0      0.0   \n",
       "2  0.000000     0.0  ...  0.0     0.0    0.0  0.0   0.0      0.0      0.0   \n",
       "3  0.000000     0.0  ...  0.0     0.0    0.0  0.0   0.0      0.0      0.0   \n",
       "4  0.000000     0.0  ...  0.0     0.0    0.0  0.0   0.0      0.0      0.0   \n",
       "\n",
       "   allspice                                                 ID  \\\n",
       "0       0.0  495334d7384f4c9a933a156cb57639770cd9c8bca00ac7...   \n",
       "1       0.0  d3ba34da7b98276f2da2ab313ff9e6cdc5d476d253a05e...   \n",
       "2       0.0  b74f75c04d65218b3b094130583f53b58b58d331f47d44...   \n",
       "3       0.0  a6f33f754e0dbb178b5fef3ff0d031f470918b9477703c...   \n",
       "4       0.0  963812f735e400dab236b19de57b52bc899bc79f0f713d...   \n",
       "\n",
       "                                         Name  \n",
       "0  Monkey Shoulder Blended Malt Scotch Whisky  \n",
       "1                            The Naked Grouse  \n",
       "2                                   Scallywag  \n",
       "3               Monkey Shoulder Smokey Monkey  \n",
       "4                            Timorous Beastie  \n",
       "\n",
       "[5 rows x 198 columns]"
      ]
     },
     "execution_count": 119,
     "metadata": {},
     "output_type": "execute_result"
    }
   ],
   "source": [
    "vectorised = pd.read_csv(\"vectorised_all.csv\")\n",
    "vectorised_features = vectorised.drop([\"ID\",\"Name\"], axis=1)\n",
    "vectorised.head()"
   ]
  },
  {
   "cell_type": "markdown",
   "id": "shared-shame",
   "metadata": {},
   "source": [
    "### kmeans"
   ]
  },
  {
   "cell_type": "code",
   "execution_count": 120,
   "id": "suffering-manor",
   "metadata": {},
   "outputs": [
    {
     "data": {
      "text/plain": [
       "KMeans(max_iter=1000, n_clusters=6, n_init=100)"
      ]
     },
     "execution_count": 120,
     "metadata": {},
     "output_type": "execute_result"
    }
   ],
   "source": [
    "from sklearn.cluster import KMeans\n",
    "kmeans =  KMeans(\n",
    "    n_clusters=6,\n",
    "    n_init=100,\n",
    "    max_iter=1000\n",
    ")\n",
    "\n",
    "kmeans.fit(vectorised_features)"
   ]
  },
  {
   "cell_type": "code",
   "execution_count": 121,
   "id": "charged-folks",
   "metadata": {},
   "outputs": [
    {
     "data": {
      "text/html": [
       "<div>\n",
       "<style scoped>\n",
       "    .dataframe tbody tr th:only-of-type {\n",
       "        vertical-align: middle;\n",
       "    }\n",
       "\n",
       "    .dataframe tbody tr th {\n",
       "        vertical-align: top;\n",
       "    }\n",
       "\n",
       "    .dataframe thead th {\n",
       "        text-align: right;\n",
       "    }\n",
       "</style>\n",
       "<table border=\"1\" class=\"dataframe\">\n",
       "  <thead>\n",
       "    <tr style=\"text-align: right;\">\n",
       "      <th></th>\n",
       "      <th>dark</th>\n",
       "      <th>support</th>\n",
       "      <th>thick</th>\n",
       "      <th>apricot</th>\n",
       "      <th>round</th>\n",
       "      <th>bean</th>\n",
       "      <th>nut</th>\n",
       "      <th>oak</th>\n",
       "      <th>ice</th>\n",
       "      <th>subtle</th>\n",
       "      <th>...</th>\n",
       "      <th>return</th>\n",
       "      <th>still</th>\n",
       "      <th>tea</th>\n",
       "      <th>meat</th>\n",
       "      <th>treacle</th>\n",
       "      <th>tobacco</th>\n",
       "      <th>allspice</th>\n",
       "      <th>ID</th>\n",
       "      <th>Name</th>\n",
       "      <th>kmeans</th>\n",
       "    </tr>\n",
       "  </thead>\n",
       "  <tbody>\n",
       "    <tr>\n",
       "      <th>0</th>\n",
       "      <td>0.0</td>\n",
       "      <td>0.0</td>\n",
       "      <td>0.000000</td>\n",
       "      <td>0.133631</td>\n",
       "      <td>0.0</td>\n",
       "      <td>0.0</td>\n",
       "      <td>0.133631</td>\n",
       "      <td>0.133631</td>\n",
       "      <td>0.133631</td>\n",
       "      <td>0.0</td>\n",
       "      <td>...</td>\n",
       "      <td>0.0</td>\n",
       "      <td>0.0</td>\n",
       "      <td>0.0</td>\n",
       "      <td>0.0</td>\n",
       "      <td>0.0</td>\n",
       "      <td>0.0</td>\n",
       "      <td>0.0</td>\n",
       "      <td>495334d7384f4c9a933a156cb57639770cd9c8bca00ac7...</td>\n",
       "      <td>Monkey Shoulder Blended Malt Scotch Whisky</td>\n",
       "      <td>3</td>\n",
       "    </tr>\n",
       "    <tr>\n",
       "      <th>1</th>\n",
       "      <td>0.0</td>\n",
       "      <td>0.0</td>\n",
       "      <td>0.196116</td>\n",
       "      <td>0.000000</td>\n",
       "      <td>0.0</td>\n",
       "      <td>0.0</td>\n",
       "      <td>0.000000</td>\n",
       "      <td>0.196116</td>\n",
       "      <td>0.000000</td>\n",
       "      <td>0.0</td>\n",
       "      <td>...</td>\n",
       "      <td>0.0</td>\n",
       "      <td>0.0</td>\n",
       "      <td>0.0</td>\n",
       "      <td>0.0</td>\n",
       "      <td>0.0</td>\n",
       "      <td>0.0</td>\n",
       "      <td>0.0</td>\n",
       "      <td>d3ba34da7b98276f2da2ab313ff9e6cdc5d476d253a05e...</td>\n",
       "      <td>The Naked Grouse</td>\n",
       "      <td>3</td>\n",
       "    </tr>\n",
       "    <tr>\n",
       "      <th>2</th>\n",
       "      <td>0.0</td>\n",
       "      <td>0.0</td>\n",
       "      <td>0.000000</td>\n",
       "      <td>0.000000</td>\n",
       "      <td>0.0</td>\n",
       "      <td>0.0</td>\n",
       "      <td>0.162221</td>\n",
       "      <td>0.162221</td>\n",
       "      <td>0.000000</td>\n",
       "      <td>0.0</td>\n",
       "      <td>...</td>\n",
       "      <td>0.0</td>\n",
       "      <td>0.0</td>\n",
       "      <td>0.0</td>\n",
       "      <td>0.0</td>\n",
       "      <td>0.0</td>\n",
       "      <td>0.0</td>\n",
       "      <td>0.0</td>\n",
       "      <td>b74f75c04d65218b3b094130583f53b58b58d331f47d44...</td>\n",
       "      <td>Scallywag</td>\n",
       "      <td>4</td>\n",
       "    </tr>\n",
       "    <tr>\n",
       "      <th>3</th>\n",
       "      <td>0.0</td>\n",
       "      <td>0.0</td>\n",
       "      <td>0.000000</td>\n",
       "      <td>0.000000</td>\n",
       "      <td>0.0</td>\n",
       "      <td>0.0</td>\n",
       "      <td>0.000000</td>\n",
       "      <td>0.000000</td>\n",
       "      <td>0.000000</td>\n",
       "      <td>0.0</td>\n",
       "      <td>...</td>\n",
       "      <td>0.0</td>\n",
       "      <td>0.0</td>\n",
       "      <td>0.0</td>\n",
       "      <td>0.0</td>\n",
       "      <td>0.0</td>\n",
       "      <td>0.0</td>\n",
       "      <td>0.0</td>\n",
       "      <td>a6f33f754e0dbb178b5fef3ff0d031f470918b9477703c...</td>\n",
       "      <td>Monkey Shoulder Smokey Monkey</td>\n",
       "      <td>1</td>\n",
       "    </tr>\n",
       "    <tr>\n",
       "      <th>4</th>\n",
       "      <td>0.0</td>\n",
       "      <td>0.0</td>\n",
       "      <td>0.000000</td>\n",
       "      <td>0.182574</td>\n",
       "      <td>0.0</td>\n",
       "      <td>0.0</td>\n",
       "      <td>0.000000</td>\n",
       "      <td>0.000000</td>\n",
       "      <td>0.000000</td>\n",
       "      <td>0.0</td>\n",
       "      <td>...</td>\n",
       "      <td>0.0</td>\n",
       "      <td>0.0</td>\n",
       "      <td>0.0</td>\n",
       "      <td>0.0</td>\n",
       "      <td>0.0</td>\n",
       "      <td>0.0</td>\n",
       "      <td>0.0</td>\n",
       "      <td>963812f735e400dab236b19de57b52bc899bc79f0f713d...</td>\n",
       "      <td>Timorous Beastie</td>\n",
       "      <td>3</td>\n",
       "    </tr>\n",
       "  </tbody>\n",
       "</table>\n",
       "<p>5 rows × 199 columns</p>\n",
       "</div>"
      ],
      "text/plain": [
       "   dark  support     thick   apricot  round  bean       nut       oak  \\\n",
       "0   0.0      0.0  0.000000  0.133631    0.0   0.0  0.133631  0.133631   \n",
       "1   0.0      0.0  0.196116  0.000000    0.0   0.0  0.000000  0.196116   \n",
       "2   0.0      0.0  0.000000  0.000000    0.0   0.0  0.162221  0.162221   \n",
       "3   0.0      0.0  0.000000  0.000000    0.0   0.0  0.000000  0.000000   \n",
       "4   0.0      0.0  0.000000  0.182574    0.0   0.0  0.000000  0.000000   \n",
       "\n",
       "        ice  subtle  ...  return  still  tea  meat  treacle  tobacco  \\\n",
       "0  0.133631     0.0  ...     0.0    0.0  0.0   0.0      0.0      0.0   \n",
       "1  0.000000     0.0  ...     0.0    0.0  0.0   0.0      0.0      0.0   \n",
       "2  0.000000     0.0  ...     0.0    0.0  0.0   0.0      0.0      0.0   \n",
       "3  0.000000     0.0  ...     0.0    0.0  0.0   0.0      0.0      0.0   \n",
       "4  0.000000     0.0  ...     0.0    0.0  0.0   0.0      0.0      0.0   \n",
       "\n",
       "   allspice                                                 ID  \\\n",
       "0       0.0  495334d7384f4c9a933a156cb57639770cd9c8bca00ac7...   \n",
       "1       0.0  d3ba34da7b98276f2da2ab313ff9e6cdc5d476d253a05e...   \n",
       "2       0.0  b74f75c04d65218b3b094130583f53b58b58d331f47d44...   \n",
       "3       0.0  a6f33f754e0dbb178b5fef3ff0d031f470918b9477703c...   \n",
       "4       0.0  963812f735e400dab236b19de57b52bc899bc79f0f713d...   \n",
       "\n",
       "                                         Name  kmeans  \n",
       "0  Monkey Shoulder Blended Malt Scotch Whisky       3  \n",
       "1                            The Naked Grouse       3  \n",
       "2                                   Scallywag       4  \n",
       "3               Monkey Shoulder Smokey Monkey       1  \n",
       "4                            Timorous Beastie       3  \n",
       "\n",
       "[5 rows x 199 columns]"
      ]
     },
     "execution_count": 121,
     "metadata": {},
     "output_type": "execute_result"
    }
   ],
   "source": [
    "vectorised[\"kmeans\"] = kmeans.labels_\n",
    "vectorised.head()"
   ]
  },
  {
   "cell_type": "code",
   "execution_count": 122,
   "id": "cooked-burton",
   "metadata": {},
   "outputs": [
    {
     "name": "stdout",
     "output_type": "stream",
     "text": [
      "Summary for model kmeans\n",
      "Cluster: 0\n",
      "Cluster Description:\n",
      "---- malt, vanilla, sweet\n",
      "Cluster Members:\n",
      "---- Dalmore 15 Year Old, Deanston 12 Year Old, Bowmore 15 Year Old, Highland Park 12 Year Old - Viking Honour, Bruichladdich Scottish Barley - The Classic Laddie\n",
      "\n",
      "Cluster: 1\n",
      "Cluster Description:\n",
      "---- smoke, peat, malt\n",
      "Cluster Members:\n",
      "---- Laphroaig 10 Year Old, Ardbeg 10 Year Old, Talisker 10 Year Old\n",
      "\n",
      "Cluster: 2\n",
      "Cluster Description:\n",
      "---- oak, malt, vanilla\n",
      "Cluster Members:\n",
      "---- Royal Lochnagar 12 Year Old, Balvenie DoubleWood 12 Year Old, Auchentoshan 12 Year Old, GlenAllachie 12 Year Old, Old Pulteney 12 Year Old\n",
      "\n",
      "Cluster: 3\n",
      "Cluster Description:\n",
      "---- malt, fruit, oak\n",
      "Cluster Members:\n",
      "---- Bunnahabhain Stiùireadair, Arran 10 Year Old, Glenmorangie 10 Year Old - The Original\n",
      "\n",
      "Cluster: 4\n",
      "Cluster Description:\n",
      "---- sherry, malt, fruit\n",
      "Cluster Members:\n",
      "---- The GlenDronach 12 Year Old, Edradour 10 Year Old, Aberlour A'Bunadh Batch 68, Blair Athol 12 Year Old - Flora and Fauna, The Glenrothes 12 Year Old - Soleo Collection\n",
      "\n",
      "Cluster: 5\n",
      "Cluster Description:\n",
      "---- fruit, malt, spice\n",
      "Cluster Members:\n",
      "---- Glen Elgin 14 Year Old - Derestricted, Glenfiddich 12 Year Old\n",
      "\n"
     ]
    }
   ],
   "source": [
    "methodOutputSummary(vectorised, vectorised_features, interesting_urls, kmeans, \"kmeans\")"
   ]
  },
  {
   "cell_type": "markdown",
   "id": "industrial-anatomy",
   "metadata": {},
   "source": [
    "### Elbow method to optimise kmeans"
   ]
  },
  {
   "cell_type": "code",
   "execution_count": 32,
   "id": "frozen-pillow",
   "metadata": {},
   "outputs": [],
   "source": [
    "import seaborn as sns\n",
    "import matplotlib.pyplot as plt\n",
    "sns.set(style='darkgrid')"
   ]
  },
  {
   "cell_type": "code",
   "execution_count": 33,
   "id": "rapid-harassment",
   "metadata": {},
   "outputs": [
    {
     "data": {
      "text/plain": [
       "Text(0.5, 1.0, 'Inertia aganst K with KNN clustering')"
      ]
     },
     "execution_count": 33,
     "metadata": {},
     "output_type": "execute_result"
    },
    {
     "data": {
      "image/png": "[encoded data removed]",
      "text/plain": [
       "<Figure size 432x288 with 1 Axes>"
      ]
     },
     "metadata": {},
     "output_type": "display_data"
    }
   ],
   "source": [
    "n_clusters = np.arange(1, 30)\n",
    "inertia = []\n",
    "for n in n_clusters:\n",
    "    kmeans =  KMeans(\n",
    "    n_clusters=n,\n",
    "    n_init=20,\n",
    "    max_iter=1000\n",
    "    )\n",
    "    kmeans.fit(vectorised_features)\n",
    "    inertia.append(kmeans.inertia_)\n",
    "    \n",
    "plt.plot(n_clusters, inertia)\n",
    "ax = plt.gca()\n",
    "ax.set_xlabel(\"k\")\n",
    "ax.set_ylabel(\"inertia\")\n",
    "plt.title(\"Inertia aganst K with KNN clustering\")"
   ]
  },
  {
   "cell_type": "markdown",
   "id": "informational-jimmy",
   "metadata": {},
   "source": [
    "## Peddling Naive Bayes"
   ]
  },
  {
   "cell_type": "code",
   "execution_count": 137,
   "id": "engaging-stack",
   "metadata": {},
   "outputs": [],
   "source": [
    "from sklearn.naive_bayes import GaussianNB\n",
    "from sklearn.model_selection import train_test_split"
   ]
  },
  {
   "cell_type": "code",
   "execution_count": 138,
   "id": "cellular-webcam",
   "metadata": {},
   "outputs": [
    {
     "data": {
      "text/plain": [
       "GaussianNB()"
      ]
     },
     "execution_count": 138,
     "metadata": {},
     "output_type": "execute_result"
    }
   ],
   "source": [
    "X_train, X_test, y_train, y_test = train_test_split(vectorised_features, vectorised[\"kmeans\"])\n",
    "nb = GaussianNB()\n",
    "nb.fit(X_train, y_train)"
   ]
  },
  {
   "cell_type": "code",
   "execution_count": 139,
   "id": "likely-kelly",
   "metadata": {},
   "outputs": [
    {
     "data": {
      "text/plain": [
       "0.5460926532522228"
      ]
     },
     "execution_count": 139,
     "metadata": {},
     "output_type": "execute_result"
    }
   ],
   "source": [
    "nb.score(X_test, y_test)"
   ]
  },
  {
   "cell_type": "code",
   "execution_count": 140,
   "id": "august-variance",
   "metadata": {},
   "outputs": [
    {
     "data": {
      "text/plain": [
       "array([[3.30020857e-41, 3.30224311e-07, 5.05452624e-21, 1.30477537e-18,\n",
       "        9.99999670e-01, 1.09834704e-16]])"
      ]
     },
     "execution_count": 140,
     "metadata": {},
     "output_type": "execute_result"
    }
   ],
   "source": [
    "nb.predict_proba(vectorised_features[vectorised[\"Name\"] == \"Blair Athol 12 Year Old - Flora and Fauna\"])"
   ]
  },
  {
   "cell_type": "code",
   "execution_count": 144,
   "id": "still-serve",
   "metadata": {},
   "outputs": [
    {
     "name": "stdout",
     "output_type": "stream",
     "text": [
      "Dalmore 15 Year Old:\n",
      "----[[7.64425630e-12 8.35324948e-38 2.12640006e-13 2.77171282e-16\n",
      "  9.99960394e-01 3.96059076e-05]]\n",
      "Edradour 10 Year Old:\n",
      "----[[1.21076059e-72 1.61761149e-15 6.16794840e-31 2.22356493e-48\n",
      "  1.00000000e+00 6.00733793e-11]]\n",
      "Aberlour A'Bunadh Batch 68:\n",
      "----[[8.51003555e-54 1.50446615e-23 8.38381651e-15 8.30799859e-34\n",
      "  1.00000000e+00 1.23421562e-10]]\n",
      "The Glenrothes 12 Year Old - Soleo Collection:\n",
      "----[[3.20128827e-48 2.46221477e-18 7.94762362e-17 6.41711113e-17\n",
      "  9.90572541e-01 9.42745920e-03]]\n",
      "The GlenDronach 12 Year Old:\n",
      "----[[6.52607412e-22 5.51201975e-20 1.14059668e-14 1.44130427e-08\n",
      "  9.99999986e-01 5.67246732e-11]]\n",
      "Royal Lochnagar 12 Year Old:\n",
      "----[[1.17042848e-14 2.03173844e-08 3.78330117e-11 4.67066392e-13\n",
      "  2.23750298e-25 9.99999980e-01]]\n",
      "Balvenie DoubleWood 12 Year Old:\n",
      "----[[2.49676296e-43 1.18577507e-03 6.80092100e-01 2.01358284e-07\n",
      "  2.83951826e-01 3.47700972e-02]]\n",
      "Glen Elgin 14 Year Old - Derestricted:\n",
      "----[[9.99999992e-01 1.01620596e-52 3.29559130e-12 8.17051162e-24\n",
      "  6.50100605e-25 7.86609166e-09]]\n",
      "Auchentoshan 12 Year Old:\n",
      "----[[2.84572107e-12 2.80338416e-16 3.13041927e-06 5.16364253e-15\n",
      "  4.40786535e-09 9.99996865e-01]]\n",
      "Bunnahabhain Stiùireadair:\n",
      "----[[9.29196704e-05 1.27376766e-03 7.63745276e-10 9.19410561e-01\n",
      "  7.92227510e-02 1.96218896e-12]]\n",
      "Deanston 12 Year Old:\n",
      "----[[9.94587869e-01 6.48775704e-13 1.16121722e-07 5.40933941e-03\n",
      "  4.80258093e-20 2.67544736e-06]]\n",
      "Old Pulteney 12 Year Old:\n",
      "----[[1.38967305e-22 9.99999995e-01 1.39830573e-09 3.48189764e-09\n",
      "  7.98392166e-28 1.59176234e-12]]\n",
      "Highland Park 12 Year Old - Viking Honour:\n",
      "----[[7.46534043e-10 8.23328698e-01 2.48128446e-05 6.18782671e-15\n",
      "  9.27022331e-11 1.76646488e-01]]\n",
      "Bruichladdich Scottish Barley - The Classic Laddie:\n",
      "----[[2.78565226e-06 9.99996325e-01 4.83283306e-07 4.05770496e-07\n",
      "  1.45186414e-20 6.99301376e-13]]\n",
      "Talisker 10 Year Old:\n",
      "----[[1.25113590e-079 1.00000000e+000 1.02753694e-058 1.23797147e-073\n",
      "  1.78224851e-144 1.44476175e-076]]\n",
      "Blair Athol 12 Year Old - Flora and Fauna:\n",
      "----[[3.30020857e-41 3.30224311e-07 5.05452624e-21 1.30477537e-18\n",
      "  9.99999670e-01 1.09834704e-16]]\n",
      "Laphroaig 10 Year Old:\n",
      "----[[4.88296715e-45 9.99998843e-01 1.67382096e-40 2.68324418e-34\n",
      "  1.15700435e-06 4.27876230e-22]]\n",
      "Ardbeg 10 Year Old:\n",
      "----[[3.46078957e-53 1.00000000e+00 7.91508421e-51 6.45620741e-55\n",
      "  5.75593413e-73 3.75241937e-59]]\n",
      "GlenAllachie 12 Year Old:\n",
      "----[[1.03286807e-50 2.96121979e-11 9.99614732e-01 2.13271231e-08\n",
      "  3.18966952e-04 6.62796223e-05]]\n",
      "Arran 10 Year Old:\n",
      "----[[9.60618371e-05 3.27519368e-07 7.20920353e-06 9.99896401e-01\n",
      "  6.25871224e-16 2.52372796e-10]]\n",
      "Glenmorangie 10 Year Old - The Original:\n",
      "----[[2.33112189e-17 5.01582993e-01 5.30313844e-05 2.65253902e-06\n",
      "  6.42058720e-14 4.98361323e-01]]\n",
      "Glenfiddich 12 Year Old:\n",
      "----[[9.67008564e-40 2.00748186e-09 6.67563212e-12 5.85580757e-03\n",
      "  5.84523737e-35 9.94144190e-01]]\n",
      "Bowmore 15 Year Old:\n",
      "----[[3.48154591e-15 1.72920177e-08 8.02552535e-09 8.03385909e-09\n",
      "  9.99996895e-01 3.07141713e-06]]\n"
     ]
    }
   ],
   "source": [
    "names = ['Dalmore 15 Year Old','Edradour 10 Year Old',\"Aberlour A'Bunadh Batch 68\",'The Glenrothes 12 Year Old - Soleo Collection','The GlenDronach 12 Year Old','Royal Lochnagar 12 Year Old',\n",
    " 'Balvenie DoubleWood 12 Year Old','Glen Elgin 14 Year Old - Derestricted','Auchentoshan 12 Year Old','Bunnahabhain Stiùireadair','Deanston 12 Year Old','Old Pulteney 12 Year Old','Highland Park 12 Year Old - Viking Honour',\n",
    " 'Bruichladdich Scottish Barley - The Classic Laddie','Talisker 10 Year Old','Blair Athol 12 Year Old - Flora and Fauna','Laphroaig 10 Year Old','Ardbeg 10 Year Old','GlenAllachie 12 Year Old','Arran 10 Year Old', 'Glenmorangie 10 Year Old - The Original','Glenfiddich 12 Year Old', 'Bowmore 15 Year Old']\n",
    "def predictProba(model):\n",
    "    for name in names:\n",
    "        probs = model.predict_proba(vectorised_features[vectorised[\"Name\"] == name])\n",
    "        print(f\"{name}:\")\n",
    "        print(f\"----{probs}\")\n",
    "        \n",
    "predictProba(nb)"
   ]
  },
  {
   "cell_type": "markdown",
   "id": "relative-company",
   "metadata": {},
   "source": [
    "## Manual Recommendation "
   ]
  },
  {
   "cell_type": "code",
   "execution_count": 158,
   "id": "greenhouse-mainstream",
   "metadata": {},
   "outputs": [],
   "source": [
    "# Query : I want something similar to Laphroig 10 and Ardbeg 10"
   ]
  },
  {
   "cell_type": "code",
   "execution_count": 266,
   "id": "technical-panel",
   "metadata": {},
   "outputs": [],
   "source": [
    "Laphroaig = 'Laphroaig 10 Year Old'\n",
    "Ardbeg = 'Ardbeg 10 Year Old'\n",
    "Edradour = 'Edradour 10 Year Old'\n",
    "likes = [Laphroaig,Ardbeg]\n",
    "likes = ['Laphroaig 10 Year Old','Glen Elgin 14 Year Old - Derestricted']\n",
    "dislikes = []"
   ]
  },
  {
   "cell_type": "code",
   "execution_count": 267,
   "id": "typical-rapid",
   "metadata": {},
   "outputs": [],
   "source": [
    "vector = np.zeros(len(np.array(vectorised_features[vectorised[\"Name\"] == likes[0]])))\n",
    "for like in likes:\n",
    "    like_vec = np.array(vectorised_features[vectorised[\"Name\"] == like ])\n",
    "    vector = vector + like_vec\n",
    "for dislike in dislikes:\n",
    "    dislike_vec = np.array(vectorised_features[vectorised[\"Name\"] == dislike ])\n",
    "    vector = vector - dislike_vec\n",
    "    \n",
    "vector = np.transpose(vector / np.linalg.norm(vector))"
   ]
  },
  {
   "cell_type": "code",
   "execution_count": 268,
   "id": "average-vacation",
   "metadata": {},
   "outputs": [],
   "source": [
    "cossim = np.matmul(vectorised_features, vector)\n",
    "n_df[\"cossim\"] = cossim\n",
    "sugg = n_df.sort_values(\"cossim\",ascending=False)"
   ]
  },
  {
   "cell_type": "code",
   "execution_count": 269,
   "id": "unlike-appraisal",
   "metadata": {},
   "outputs": [],
   "source": [
    "sugg = sugg[[name not in likes for name in sugg[\"Name\"].values]]\n",
    "sugg = sugg[np.isnan(sugg[\"Price\"]) == False]"
   ]
  },
  {
   "cell_type": "code",
   "execution_count": 270,
   "id": "duplicate-harassment",
   "metadata": {},
   "outputs": [
    {
     "data": {
      "text/plain": [
       "['Drinks by the Dram Single Cracker - Lagavulin 16 Year Old',\n",
       " 'Ledaig 10 Year Old',\n",
       " 'Tormore 21 Year Old (That Boutique-y Whisky Company)',\n",
       " 'Laphroaig Triple Wood',\n",
       " 'Lagavulin 16 Year Old 1l',\n",
       " 'Springbank 21 Year Old 1996 - Single Cask (Master of Malt)',\n",
       " 'BenRiach 9 Year Old 2008 (cask 2047)',\n",
       " 'SPEY 12 Year Old Peated',\n",
       " 'Loch Lomond The Open Special Edition ',\n",
       " 'Highland Park Valkyrie']"
      ]
     },
     "execution_count": 270,
     "metadata": {},
     "output_type": "execute_result"
    }
   ],
   "source": [
    "list(sugg[\"Name\"][:10])"
   ]
  },
  {
   "cell_type": "markdown",
   "id": "indian-smell",
   "metadata": {},
   "source": [
    "## Prototypical Cosine Similarity Recommender Function"
   ]
  },
  {
   "cell_type": "code",
   "execution_count": 271,
   "id": "union-active",
   "metadata": {},
   "outputs": [],
   "source": [
    "def getRecommendations(likes, dislikes):\n",
    "    vector = np.zeros(len(np.array(vectorised_features[vectorised[\"Name\"] == likes[0]])))\n",
    "    for like in likes:\n",
    "        like_vec = np.array(vectorised_features[vectorised[\"Name\"] == like ])\n",
    "        vector = vector + like_vec\n",
    "    for dislike in dislikes:\n",
    "        dislike_vec = np.array(vectorised_features[vectorised[\"Name\"] == dislike ])\n",
    "        vector = vector - dislike_vec\n",
    "\n",
    "    vector = np.transpose(vector / np.linalg.norm(vector))\n",
    "    \n",
    "    sim = np.matmul(vectorised_features, vector)\n",
    "    n_df[\"cossim\"] = sim\n",
    "    sugg = n_df.sort_values(\"cossim\",ascending=False)\n",
    "    \n",
    "    sugg = sugg[[name not in likes for name in sugg[\"Name\"].values]]\n",
    "    sugg = sugg[np.isnan(sugg[\"Price\"]) == False]\n",
    "    \n",
    "    return sugg[\"Name\"][:10]"
   ]
  },
  {
   "cell_type": "code",
   "execution_count": 298,
   "id": "stainless-filing",
   "metadata": {},
   "outputs": [
    {
     "data": {
      "text/plain": [
       "3526                            The Corriemhor 8 Year Old\n",
       "894                              Arran Bodega Sherry Cask\n",
       "2415    Pulteney 19 Year Old 1999 - Connoisseurs Choic...\n",
       "3200    Macduff 10 Year Old 2007 (cask 900594) - Bench...\n",
       "1291    Teaninich 9 Year Old 2012 (cask 702608) - Lady...\n",
       "1595    Royal Brackla 7 Year Old 2013 (cask 14) - The ...\n",
       "2900      Hazelburn 13 Year Old 2007 Oloroso Cask Matured\n",
       "1957    Deanston 12 Year Old 2007 (cask 900142) - Cask...\n",
       "2142    Tobermory 19 Year Old 1996 (cask 126) - Rest &...\n",
       "1447           Ardmore 10 Year Old 2009 - Single & Single\n",
       "Name: Name, dtype: object"
      ]
     },
     "execution_count": 298,
     "metadata": {},
     "output_type": "execute_result"
    }
   ],
   "source": [
    "names = ['Dalmore 15 Year Old','Edradour 10 Year Old',\"Aberlour A'Bunadh Batch 68\",'The Glenrothes 12 Year Old - Soleo Collection','The GlenDronach 12 Year Old','Royal Lochnagar 12 Year Old',\n",
    " 'Balvenie DoubleWood 12 Year Old','Glen Elgin 14 Year Old - Derestricted','Auchentoshan 12 Year Old','Bunnahabhain Stiùireadair','Deanston 12 Year Old','Old Pulteney 12 Year Old','Highland Park 12 Year Old - Viking Honour',\n",
    " 'Bruichladdich Scottish Barley - The Classic Laddie','Talisker 10 Year Old','Blair Athol 12 Year Old - Flora and Fauna','Laphroaig 10 Year Old','Ardbeg 10 Year Old','GlenAllachie 12 Year Old','Arran 10 Year Old', 'Glenmorangie 10 Year Old - The Original','Glenfiddich 12 Year Old', 'Bowmore 15 Year Old']\n",
    "\n",
    "likes = ['Laphroaig 10 Year Old',\"Aberlour A'Bunadh Batch 68\",\"Edradour 10 Year Old 2008 (cask 371) - Un-Chillfiltered Collection (Signatory)\"]\n",
    "dislikes = ['Ardbeg 10 Year Old']\n",
    "getRecommendations(likes,dislikes)"
   ]
  },
  {
   "cell_type": "code",
   "execution_count": 296,
   "id": "boring-reader",
   "metadata": {},
   "outputs": [
    {
     "data": {
      "text/plain": [
       "1595    Royal Brackla 7 Year Old 2013 (cask 14) - The ...\n",
       "3526                            The Corriemhor 8 Year Old\n",
       "3200    Macduff 10 Year Old 2007 (cask 900594) - Bench...\n",
       "3505                     Kilchoman Loch Gorm 2019 Release\n",
       "959                                  Tomintoul Cigar Malt\n",
       "894                              Arran Bodega Sherry Cask\n",
       "1291    Teaninich 9 Year Old 2012 (cask 702608) - Lady...\n",
       "3767            Tobermory 21 Year Old Oloroso Cask Finish\n",
       "97                           Scallywag The Winter Edition\n",
       "2415    Pulteney 19 Year Old 1999 - Connoisseurs Choic...\n",
       "Name: Name, dtype: object"
      ]
     },
     "execution_count": 296,
     "metadata": {},
     "output_type": "execute_result"
    }
   ],
   "source": [
    "likes = ['Laphroaig 10 Year Old',\"Aberlour A'Bunadh Batch 68\",\"Edradour 10 Year Old 2008 (cask 371) - Un-Chillfiltered Collection (Signatory)\"]\n",
    "dislikes = ['Old Pulteney 12 Year Old']\n",
    "getRecommendations(likes,dislikes)"
   ]
  }
 ],
 "metadata": {
  "kernelspec": {
   "display_name": "Python 3",
   "language": "python",
   "name": "python3"
  },
  "language_info": {
   "codemirror_mode": {
    "name": "ipython",
    "version": 3
   },
   "file_extension": ".py",
   "mimetype": "text/x-python",
   "name": "python",
   "nbconvert_exporter": "python",
   "pygments_lexer": "ipython3",
   "version": "3.9.1"
  }
 },
 "nbformat": 4,
 "nbformat_minor": 5
}
