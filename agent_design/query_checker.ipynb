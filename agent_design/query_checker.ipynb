{
 "cells": [
  {
   "cell_type": "markdown",
   "id": "organized-section",
   "metadata": {},
   "source": [
    "# Database Query Checker\n",
    "Scratchpad for testing queries on the database"
   ]
  },
  {
   "cell_type": "code",
   "execution_count": 2,
   "id": "english-associate",
   "metadata": {},
   "outputs": [
    {
     "name": "stdout",
     "output_type": "stream",
     "text": [
      "Database files available. Agent initialising.\n",
      "Agent loading complete.\n"
     ]
    }
   ],
   "source": [
    "from pprint import pprint\n",
    "import pandas as pd\n",
    "from RecommenderAgent import WhiskyRecommender\n",
    "import sqlite3\n",
    "recommender = WhiskyRecommender()\n",
    "alchemy_path = recommender.alchemy\n",
    "sqlite_path = recommender.dbpath\n",
    "kw_path = recommender.kwpath\n",
    "con_to_db = recommender.dbcon"
   ]
  },
  {
   "cell_type": "code",
   "execution_count": 3,
   "id": "quantitative-coordinate",
   "metadata": {},
   "outputs": [
    {
     "ename": "TypeError",
     "evalue": "function takes at least 1 argument (0 given)",
     "output_type": "error",
     "traceback": [
      "\u001b[1;31m---------------------------------------------------------------------------\u001b[0m",
      "\u001b[1;31mTypeError\u001b[0m                                 Traceback (most recent call last)",
      "\u001b[1;32m<ipython-input-3-bd7d60bca92c>\u001b[0m in \u001b[0;36m<module>\u001b[1;34m\u001b[0m\n\u001b[0;32m      3\u001b[0m \u001b[0mcon\u001b[0m \u001b[1;33m=\u001b[0m \u001b[0mcon_to_db\u001b[0m\u001b[1;33m(\u001b[0m\u001b[1;33m)\u001b[0m\u001b[1;33m\u001b[0m\u001b[1;33m\u001b[0m\u001b[0m\n\u001b[0;32m      4\u001b[0m \u001b[0mcur\u001b[0m \u001b[1;33m=\u001b[0m \u001b[0mcon\u001b[0m\u001b[1;33m.\u001b[0m\u001b[0mcursor\u001b[0m\u001b[1;33m(\u001b[0m\u001b[1;33m)\u001b[0m\u001b[1;33m\u001b[0m\u001b[1;33m\u001b[0m\u001b[0m\n\u001b[1;32m----> 5\u001b[1;33m cur.execute(\n\u001b[0m\u001b[0;32m      6\u001b[0m \u001b[1;33m\u001b[0m\u001b[0m\n\u001b[0;32m      7\u001b[0m         )\n",
      "\u001b[1;31mTypeError\u001b[0m: function takes at least 1 argument (0 given)"
     ]
    }
   ],
   "source": [
    "term = \"ph\"\n",
    "col=\"Name\"\n",
    "con = con_to_db()\n",
    "cur = con.cursor()\n",
    "cur.execute(\n",
    "            \n",
    "        )\n",
    "x = cur.fetchall()\n",
    "con.close()\n",
    "x"
   ]
  }
 ],
 "metadata": {
  "kernelspec": {
   "display_name": "Python 3",
   "language": "python",
   "name": "python3"
  },
  "language_info": {
   "codemirror_mode": {
    "name": "ipython",
    "version": 3
   },
   "file_extension": ".py",
   "mimetype": "text/x-python",
   "name": "python",
   "nbconvert_exporter": "python",
   "pygments_lexer": "ipython3",
   "version": "3.9.1"
  }
 },
 "nbformat": 4,
 "nbformat_minor": 5
}
