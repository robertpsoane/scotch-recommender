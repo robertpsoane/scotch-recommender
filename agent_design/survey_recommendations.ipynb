{
 "cells": [
  {
   "cell_type": "markdown",
   "id": "competitive-flesh",
   "metadata": {},
   "source": [
    "# Survey Recommendations\n",
    "Producing a set of recommendations for a survey.  Will make each recommendation both using the agent, and the baseline agent."
   ]
  }
 ],
 "metadata": {
  "kernelspec": {
   "display_name": "Python 3",
   "language": "python",
   "name": "python3"
  },
  "language_info": {
   "codemirror_mode": {
    "name": "ipython",
    "version": 3
   },
   "file_extension": ".py",
   "mimetype": "text/x-python",
   "name": "python",
   "nbconvert_exporter": "python",
   "pygments_lexer": "ipython3",
   "version": "3.9.1"
  }
 },
 "nbformat": 4,
 "nbformat_minor": 5
}
