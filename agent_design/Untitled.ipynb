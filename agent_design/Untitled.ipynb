{
 "cells": [
  {
   "cell_type": "code",
   "execution_count": 1,
   "id": "monthly-principle",
   "metadata": {},
   "outputs": [],
   "source": [
    "import pandas as pd\n",
    "import numpy as np\n",
    "from RecommenderAgent import WhiskyRecommender\n",
    "import sqlite3\n",
    "import time"
   ]
  },
  {
   "cell_type": "code",
   "execution_count": 2,
   "id": "technological-bachelor",
   "metadata": {},
   "outputs": [
    {
     "name": "stdout",
     "output_type": "stream",
     "text": [
      "First time load. May take longer than usual.\n",
      "No database on system.\n",
      "Will setup initial database from C:\\Users\\rober\\Google Drive\\Programming\\Python\\scotch-recommender\\agent_design\\scotch.csv.\n",
      "Adding table whiskys to database.\n",
      "Setting up review table.\n",
      "\n",
      "Performing Nose Keyword Extraction\n",
      "Building Corpus\n",
      "Building Graph\n",
      "Candidate Keywords Selected\n",
      "Edges Created\n",
      "Ranking Nodes\n",
      "\n",
      "Performing Palate Keyword Extraction\n",
      "Building Corpus\n",
      "Building Graph\n",
      "Candidate Keywords Selected\n",
      "Edges Created\n",
      "Ranking Nodes\n",
      "\n",
      "Performing Finish Keyword Extraction\n",
      "Building Corpus\n",
      "Building Graph\n",
      "Candidate Keywords Selected\n",
      "Edges Created\n",
      "Ranking Nodes\n",
      "\n",
      "Vectorising tasting notes\n",
      "Vectorising Nose tasting notes\n",
      "Vectorising Palate tasting notes\n",
      "Vectorising Finish tasting notes\n",
      "Vectorising All tasting notes\n",
      "Adding table nose_model to database.\n",
      "Adding table palate_model to database.\n",
      "Adding table finish_model to database.\n",
      "Adding table general_model to database.\n",
      "Database files available. Agent initialising.\n",
      "Agent loading complete.\n"
     ]
    }
   ],
   "source": [
    "t1 = time.time()\n",
    "rec = WhiskyRecommender()\n",
    "t2 = time.time()"
   ]
  },
  {
   "cell_type": "code",
   "execution_count": 3,
   "id": "thousand-issue",
   "metadata": {},
   "outputs": [],
   "source": [
    "ttime = t2 - t1\n",
    "mins = ttime // 60\n",
    "secs = ttime % 60"
   ]
  },
  {
   "cell_type": "code",
   "execution_count": 4,
   "id": "handmade-optimization",
   "metadata": {},
   "outputs": [
    {
     "name": "stdout",
     "output_type": "stream",
     "text": [
      "Time to setup and first train: 1.0 minutes, 10.984015703201294 seconds\n"
     ]
    }
   ],
   "source": [
    "print(f\"Time to setup and first train: {mins} minutes, {secs} seconds\")"
   ]
  },
  {
   "cell_type": "code",
   "execution_count": 5,
   "id": "tamil-parameter",
   "metadata": {},
   "outputs": [
    {
     "name": "stdout",
     "output_type": "stream",
     "text": [
      "Database files available. Agent initialising.\n",
      "Agent loading complete.\n",
      "Time to re-init: 0.0 minutes, 0.01999497413635254 seconds\n"
     ]
    }
   ],
   "source": [
    "t1 = time.time()\n",
    "rec = WhiskyRecommender()\n",
    "t2 = time.time()\n",
    "ttime = t2 - t1\n",
    "mins = ttime // 60\n",
    "secs = ttime % 60\n",
    "print(f\"Time to re-init: {mins} minutes, {secs} seconds\")"
   ]
  }
 ],
 "metadata": {
  "kernelspec": {
   "display_name": "Python 3",
   "language": "python",
   "name": "python3"
  },
  "language_info": {
   "codemirror_mode": {
    "name": "ipython",
    "version": 3
   },
   "file_extension": ".py",
   "mimetype": "text/x-python",
   "name": "python",
   "nbconvert_exporter": "python",
   "pygments_lexer": "ipython3",
   "version": "3.9.1"
  }
 },
 "nbformat": 4,
 "nbformat_minor": 5
}
