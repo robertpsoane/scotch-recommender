{
 "cells": [
  {
   "cell_type": "markdown",
   "id": "devoted-shannon",
   "metadata": {},
   "source": [
    "# Whisky Recommender Demo\n",
    "This notebook includes a demo of the Whisky Recommender.  There are a number of interactive cells that you can use to see and try out various features of the recommender.  The ultimate aim is that the recommender can be used as a backend of a web app, and thus most interactions happen using dictionaries. This is slightly awkward for an individual user hoping to get a whisky recommendation, however this serves a purpose more as a proof or concept."
   ]
  },
  {
   "cell_type": "code",
   "execution_count": 1,
   "id": "criminal-description",
   "metadata": {},
   "outputs": [],
   "source": [
    "from pprint import pprint\n",
    "import pandas as pd"
   ]
  },
  {
   "cell_type": "markdown",
   "id": "unexpected-enterprise",
   "metadata": {},
   "source": [
    "## Loading and auto-setup\n",
    "When initialised, the recommender will check all relevant data files to ensure everything is present. If the files aren't in the right place it will create them. Try deleting the **.DB** directory - the recommender will re-create it along with the initial models.\n",
    "\n",
    "This can also be done with the **scotch.csv** file, however that takes a lot longer to create as it's scraping live"
   ]
  },
  {
   "cell_type": "code",
   "execution_count": 2,
   "id": "compact-viewer",
   "metadata": {},
   "outputs": [
    {
     "name": "stdout",
     "output_type": "stream",
     "text": [
      "Database files available. Agent initialising.\n",
      "Agent loading complete.\n"
     ]
    }
   ],
   "source": [
    "from RecommenderAgent import WhiskyRecommender\n",
    "recommender = WhiskyRecommender()"
   ]
  },
  {
   "cell_type": "markdown",
   "id": "therapeutic-wagner",
   "metadata": {},
   "source": [
    "## Database Queries"
   ]
  },
  {
   "cell_type": "code",
   "execution_count": 3,
   "id": "incredible-representative",
   "metadata": {},
   "outputs": [
    {
     "name": "stdout",
     "output_type": "stream",
     "text": [
      "{'ID': 'ff6df63a99183d4515cbf7e36a84949c3b761a29cdf7bf13c137e5ce9a91abc5',\n",
      " 'Type': 'single malt scotch',\n",
      " 'Name': 'Laphroaig 10 Year Old Sherry Oak Finish',\n",
      " 'Description': 'Smoke and sherry here from Laphroaig! The legendary '\n",
      "                'distillery on the south coast of Islay has gone and released '\n",
      "                'a fab 10 year old single malt Scotch whisky which has been '\n",
      "                'finished in Oloroso sherry casks for over 12 months, and '\n",
      "                'bottled up at 48% ABV. Alongside the familiar, intensely '\n",
      "                \"peaty elements of Laphroaig's classic 10 Year Old expression, \"\n",
      "                \"you'll also find helpings of dark chocolate and maple syrup \"\n",
      "                \"notes in this one's flavour profile. Yum!\",\n",
      " 'Tasting Notes': {'Nose': 'Smoked meats, maple syrup, BBQ lemon, charred oak, '\n",
      "                           'a smidge of coffee.',\n",
      "                   'Palate': 'More roasted cedar and peat smoke, with a hint '\n",
      "                             'of iodine tucked away. Dark chocolate, honey, '\n",
      "                             'and vanilla pod.',\n",
      "                   'Finish': 'A balanced finish of sherried sweetness and '\n",
      "                             'smouldering peat.'},\n",
      " 'Price': 59.95,\n",
      " 'Size': 70.0,\n",
      " 'ABV': 48.0,\n",
      " 'URL': 'https://www.masterofmalt.com/whiskies/laphroaig/laphroaig-10-year-old-sherry-oak-whisky/'}\n"
     ]
    }
   ],
   "source": [
    "whisky_id = \"ff6df63a99183d4515cbf7e36a84949c3b761a29cdf7bf13c137e5ce9a91abc5\"\n",
    "whisky_dict = recommender.getWhiskyByID(whisky_id)\n",
    "pprint(whisky_dict, sort_dicts=False)"
   ]
  },
  {
   "cell_type": "markdown",
   "id": "circular-cruise",
   "metadata": {},
   "source": [
    "## Adding Review"
   ]
  },
  {
   "cell_type": "code",
   "execution_count": 4,
   "id": "secondary-windows",
   "metadata": {},
   "outputs": [],
   "source": [
    "review1 = {\n",
    "        \"prod_id\": \"ff6df63a99183d4515cbf7e36a84949c3b761a29cdf7bf13c137e5ce9a91abc\",\n",
    "        \"general\": \"Very nice, heavily peated.\",\n",
    "        \"nose\": \"I don't know\",\n",
    "        \"palate\": \"I don't know\",\n",
    "        \"finish\": \"I don't know\"\n",
    "    }\n",
    "review2 = {\n",
    "    \"prod_id\": \"ff6df63a99183d4515cbf7e36a84949c3b761a29cdf7bf13c137e5ce9a91abc5\",\n",
    "    \"general\": \"general Very nice, too peated.\",\n",
    "    \"nose\": \"nose I don't know\",\n",
    "    \"palate\": \"palate I don't know\",\n",
    "    \"finish\": \"finish I don't know\"\n",
    "}\n",
    "recommender.review2DB(review1)\n",
    "recommender.review2DB(review2)"
   ]
  },
  {
   "cell_type": "code",
   "execution_count": 5,
   "id": "handed-sunrise",
   "metadata": {},
   "outputs": [],
   "source": [
    "rn = recommender.getReviewNotes()"
   ]
  },
  {
   "cell_type": "code",
   "execution_count": 6,
   "id": "leading-differential",
   "metadata": {},
   "outputs": [
    {
     "data": {
      "text/plain": [
       "{'ff6df63a99183d4515cbf7e36a84949c3b761a29cdf7bf13c137e5ce9a91abc': {'general': 'Very nice, heavily peated. Very nice, heavily peated.',\n",
       "  'nose': \"I don't know I don't know\",\n",
       "  'palate': \"I don't know I don't know\",\n",
       "  'finish': \"I don't know I don't know\",\n",
       "  'n': 2},\n",
       " 'ff6df63a99183d4515cbf7e36a84949c3b761a29cdf7bf13c137e5ce9a91abc5': {'general': 'Very nice, too peated. general Very nice, too peated.',\n",
       "  'nose': \"I don't know nose I don't know\",\n",
       "  'palate': \"I don't know palate I don't know\",\n",
       "  'finish': \"I don't know finish I don't know\",\n",
       "  'n': 2}}"
      ]
     },
     "execution_count": 6,
     "metadata": {},
     "output_type": "execute_result"
    }
   ],
   "source": [
    "rn"
   ]
  }
 ],
 "metadata": {
  "kernelspec": {
   "display_name": "Python 3",
   "language": "python",
   "name": "python3"
  },
  "language_info": {
   "codemirror_mode": {
    "name": "ipython",
    "version": 3
   },
   "file_extension": ".py",
   "mimetype": "text/x-python",
   "name": "python",
   "nbconvert_exporter": "python",
   "pygments_lexer": "ipython3",
   "version": "3.9.1"
  }
 },
 "nbformat": 4,
 "nbformat_minor": 5
}
