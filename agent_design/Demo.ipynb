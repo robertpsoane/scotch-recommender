{
 "cells": [
  {
   "cell_type": "markdown",
   "id": "entitled-integration",
   "metadata": {},
   "source": [
    "# Whisky Recommender Demo\n",
    "This notebook includes a demo of the Whisky Recommender.  There are a number of interactive cells that you can use to see and try out various features of the recommender.  The ultimate aim is that the recommender can be used as a backend of a web app, and thus most interactions happen using dictionaries. This is slightly awkward for an individual user hoping to get a whisky recommendation, however this serves a purpose more as a proof or concept."
   ]
  },
  {
   "cell_type": "code",
   "execution_count": 1,
   "id": "assisted-swedish",
   "metadata": {},
   "outputs": [],
   "source": [
    "from pprint import pprint\n",
    "import pandas as pd"
   ]
  },
  {
   "cell_type": "markdown",
   "id": "serious-plant",
   "metadata": {},
   "source": [
    "## Loading and auto-setup\n",
    "When initialised, the recommender will check all relevant data files to ensure everything is present. If the files aren't in the right place it will create them. Try deleting the **.DB** directory - the recommender will re-create it along with the initial models.\n",
    "\n",
    "This can also be done with the **scotch.csv** file, however that takes a lot longer to create as it's scraping live"
   ]
  },
  {
   "cell_type": "code",
   "execution_count": 2,
   "id": "coral-psychiatry",
   "metadata": {},
   "outputs": [
    {
     "name": "stdout",
     "output_type": "stream",
     "text": [
      "Database files available. Agent initialising.\n",
      "Agent loading complete.\n"
     ]
    }
   ],
   "source": [
    "from RecommenderAgent import WhiskyRecommender\n",
    "recommender = WhiskyRecommender()"
   ]
  },
  {
   "cell_type": "markdown",
   "id": "veterinary-baker",
   "metadata": {},
   "source": [
    "## Database Queries\n",
    "\n",
    "A small selection of functions have been produced to easily query the database.\n",
    "These are:\n",
    "\n",
    " - getWhiskyByID(ID) : returns the whisky of the given id\n",
    " - searchWhiskys(term, col) : returns all columns with the term in the column\n",
    " - searchByName(term)/searchByDesc(term) : return whiskys with name/description like term.\n",
    " - searchByURL(url) : search by MoM url, return name and ID only.\n",
    " \n",
    " ### getWhiskyByID"
   ]
  },
  {
   "cell_type": "code",
   "execution_count": 3,
   "id": "inclusive-gabriel",
   "metadata": {},
   "outputs": [
    {
     "name": "stdout",
     "output_type": "stream",
     "text": [
      "{'ID': 'ff6df63a99183d4515cbf7e36a84949c3b761a29cdf7bf13c137e5ce9a91abc5',\n",
      " 'Type': 'single malt scotch',\n",
      " 'Name': 'Laphroaig 10 Year Old Sherry Oak Finish',\n",
      " 'Description': 'Smoke and sherry here from Laphroaig! The legendary '\n",
      "                'distillery on the south coast of Islay has gone and released '\n",
      "                'a fab 10 year old single malt Scotch whisky which has been '\n",
      "                'finished in Oloroso sherry casks for over 12 months, and '\n",
      "                'bottled up at 48% ABV. Alongside the familiar, intensely '\n",
      "                \"peaty elements of Laphroaig's classic 10 Year Old expression, \"\n",
      "                \"you'll also find helpings of dark chocolate and maple syrup \"\n",
      "                \"notes in this one's flavour profile. Yum!\",\n",
      " 'Tasting_Notes': {'Nose': 'Smoked meats, maple syrup, BBQ lemon, charred oak, '\n",
      "                           'a smidge of coffee.',\n",
      "                   'Palate': 'More roasted cedar and peat smoke, with a hint '\n",
      "                             'of iodine tucked away. Dark chocolate, honey, '\n",
      "                             'and vanilla pod.',\n",
      "                   'Finish': 'A balanced finish of sherried sweetness and '\n",
      "                             'smouldering peat.'},\n",
      " 'Price': 59.95,\n",
      " 'Size': 70.0,\n",
      " 'ABV': 48.0,\n",
      " 'URL': 'https://www.masterofmalt.com/whiskies/laphroaig/laphroaig-10-year-old-sherry-oak-whisky/'}\n",
      "\n"
     ]
    }
   ],
   "source": [
    "whisky_ids = [\"ff6df63a99183d4515cbf7e36a84949c3b761a29cdf7bf13c137e5ce9a91abc5\"]\n",
    "for whisky_id in whisky_ids:\n",
    "    whisky_dict = recommender.getWhiskyByID(whisky_id)\n",
    "    pprint(whisky_dict, sort_dicts=False)\n",
    "    print()"
   ]
  },
  {
   "cell_type": "markdown",
   "id": "respective-monday",
   "metadata": {},
   "source": [
    "### searchByName"
   ]
  },
  {
   "cell_type": "code",
   "execution_count": 4,
   "id": "dutch-mortgage",
   "metadata": {},
   "outputs": [
    {
     "data": {
      "text/plain": [
       "{'ID': 'ff6df63a99183d4515cbf7e36a84949c3b761a29cdf7bf13c137e5ce9a91abc5',\n",
       " 'Type': 'single malt scotch',\n",
       " 'Name': 'Laphroaig 10 Year Old Sherry Oak Finish',\n",
       " 'Description': \"Smoke and sherry here from Laphroaig! The legendary distillery on the south coast of Islay has gone and released a fab 10 year old single malt Scotch whisky which has been finished in Oloroso sherry casks for over 12 months, and bottled up at 48% ABV. Alongside the familiar, intensely peaty elements of Laphroaig's classic 10 Year Old expression, you'll also find helpings of dark chocolate and maple syrup notes in this one's flavour profile. Yum!\",\n",
       " 'Tasting_Notes': {'Nose': 'Smoked meats, maple syrup, BBQ lemon, charred oak, a smidge of coffee.',\n",
       "  'Palate': 'More roasted cedar and peat smoke, with a hint of iodine tucked away. Dark chocolate, honey, and vanilla pod.',\n",
       "  'Finish': 'A balanced finish of sherried sweetness and smouldering peat.'},\n",
       " 'Price': 59.95,\n",
       " 'Size': 70.0,\n",
       " 'ABV': 48.0,\n",
       " 'URL': 'https://www.masterofmalt.com/whiskies/laphroaig/laphroaig-10-year-old-sherry-oak-whisky/'}"
      ]
     },
     "execution_count": 4,
     "metadata": {},
     "output_type": "execute_result"
    }
   ],
   "source": [
    "search = recommender.searchByName(\"Laphroaig 10 Year Old\")\n",
    "search[0]"
   ]
  },
  {
   "cell_type": "markdown",
   "id": "miniature-blake",
   "metadata": {},
   "source": [
    "### searchByURL"
   ]
  },
  {
   "cell_type": "code",
   "execution_count": 5,
   "id": "therapeutic-thinking",
   "metadata": {},
   "outputs": [
    {
     "data": {
      "text/plain": [
       "['ff6df63a99183d4515cbf7e36a84949c3b761a29cdf7bf13c137e5ce9a91abc5',\n",
       " 'Laphroaig 10 Year Old Sherry Oak Finish']"
      ]
     },
     "execution_count": 5,
     "metadata": {},
     "output_type": "execute_result"
    }
   ],
   "source": [
    "recommender.searchByURL(\"https://www.masterofmalt.com/whiskies/laphroaig/laphroaig-10-year-old-sherry-oak-whisky/\")"
   ]
  },
  {
   "cell_type": "markdown",
   "id": "prepared-modification",
   "metadata": {},
   "source": [
    "## Adding Review"
   ]
  },
  {
   "cell_type": "markdown",
   "id": "alike-blanket",
   "metadata": {},
   "source": [
    "## Updating Database"
   ]
  },
  {
   "cell_type": "markdown",
   "id": "completed-qatar",
   "metadata": {},
   "source": [
    "## Recommending from Likes / Dislikes\n",
    "The agent can recommend based on users likes and dislikes across nose, palate and finish, as well as general. General refers to nose, palate, finish and description. This is to reflect that some whiskys don't have tasting notes, yet the tasting note details are in their description.\n",
    "\n",
    "The input takes the following JSON/dictionary format:\n",
    "\n",
    "{\n",
    "\n",
    "    \"preferences\" : {   \n",
    "                    \"Nose\" : {\n",
    "                                \"Likes\" : [ list of ids of liked whiskys ],\n",
    "                                \"Dislikes\" : [ list of ids of disliked whiskys ]\n",
    "                    },\n",
    "                    \"Palate\" : {\n",
    "                                \"Likes\" : [ list of ids of liked whiskys ],\n",
    "                                \"Dislikes\" : [ list of ids of disliked whiskys ]\n",
    "                    },\n",
    "                    \"Finish\" : {\n",
    "                                \"Likes\" : [ list of ids of liked whiskys ],\n",
    "                                \"Dislikes\" : [ list of ids of disliked whiskys ]\n",
    "                    },\n",
    "                    \"General\" : {\n",
    "                                \"Likes\" : [ list of ids of liked whiskys ],\n",
    "                                \"Dislikes\" : [ list of ids of disliked whiskys ]\n",
    "                    },\n",
    "                   }\n",
    "    \"params\" : {\n",
    "                \"Abv\" : [min_abv, max_abv],\n",
    "                \"Price\" : [min_price, max_price],\n",
    "                \"Size\" : [min_size, max_size]\n",
    "               }\n",
    "}\n",
    "\n",
    "Note that not all keys are required, where any params are missing the agent will use default values, and where flavour keys are missing those flavours won't be considered.\n",
    "\n",
    "I recommend either querying by a mixture of nose, palate, finish _or_ general, but not both"
   ]
  },
  {
   "cell_type": "code",
   "execution_count": null,
   "id": "bulgarian-amazon",
   "metadata": {},
   "outputs": [],
   "source": [
    "# Putting together sample query\n",
    "favourites = {\n",
    "    \"Nose\" : {\n",
    "        \"likes\" : [],\n",
    "        \"dislikes\" : []\n",
    "    }\n",
    "}\n",
    "params = {\n",
    "    \"Abs\" : [35, 55],\n",
    "    \"Price\" : [0, 150],\n",
    "    \"Size\" : [50, 75]\n",
    "}\n",
    "q = {\n",
    "    \"preferences\" : favourites,\n",
    "    \"params\" : params\n",
    "}"
   ]
  },
  {
   "cell_type": "markdown",
   "id": "solar-recorder",
   "metadata": {},
   "source": [
    "## Dream Dram Recommendations"
   ]
  }
 ],
 "metadata": {
  "kernelspec": {
   "display_name": "Python 3",
   "language": "python",
   "name": "python3"
  },
  "language_info": {
   "codemirror_mode": {
    "name": "ipython",
    "version": 3
   },
   "file_extension": ".py",
   "mimetype": "text/x-python",
   "name": "python",
   "nbconvert_exporter": "python",
   "pygments_lexer": "ipython3",
   "version": "3.9.1"
  }
 },
 "nbformat": 4,
 "nbformat_minor": 5
}
